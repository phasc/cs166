{
 "cells": [
  {
   "cell_type": "markdown",
   "metadata": {},
   "source": [
    "# How a waiting time model leads to the Poisson and exponential distributions\n",
    "\n",
    "In the previous lesson, we discussed that the assumptions behind exponentially distributed waiting times are–\n",
    "\n",
    "* Events occur at a fixed average rate which does not change during the simulation.\n",
    "\n",
    "* Events are independent so past events do not influence future events.\n",
    "\n",
    "In this notebook, we implement a simulation to confirm/demonstrate how a Poisson distribution over the number of events per time interval and an exponential distribution over the waiting time between consecutive events arise from these assumptions.\n",
    "\n",
    "## Outline\n",
    "\n",
    "The basic idea behind the theoretical proof also gives us a framework for implementing the simulation to check the theoretical results. The theoretical proof isn't reproduced in detail here, but [you can find an outline of the proof here](https://en.wikipedia.org/wiki/Poisson_limit_theorem).\n",
    "\n",
    "In the theoretical proof, we assume events occur with a fixed average rate of $mu$ events per unit interval.\n",
    "\n",
    "* So, in an interval of length 1, we should observe $mu$ events on average.\n",
    "* In an interval of length $\\ell$, we should observe $\\mu\\ell$ events, on average.\n",
    "\n",
    "If we take a unit interval and divide it into $n$ smaller sub-intervals of length $1/n$, the average number of events per sub-interval is $\\mu/n$. Now we make a theoretical move: if the sub-intervals are small enough (technically, as $n\\rightarrow\\infty$), the probability of observing more than 1 event per sub-interval goes to 0. So, we need to analyze only two possibilities per sub-interval – either 1 event occurs or 0 events occur. Furthermore, the probability of observing 1 event in a sub-interval is $\\mu/n$ since that is still the average number of events per sub-interval of length $1/n$.\n",
    "\n",
    "Our question is now, how many times do we observe a positive outcome if we make $n$ observations (one per sub-interval) and the probability of one positive outcome is $\\mu/n$.\n",
    "\n",
    "## Simulation of one interval\n",
    "\n",
    "Let's simulate that. Please read all code comments below to follow along with how we put together the simulation."
   ]
  },
  {
   "cell_type": "code",
   "execution_count": 1,
   "metadata": {},
   "outputs": [],
   "source": [
    "import numpy as np\n",
    "import scipy.stats as sts\n",
    "import matplotlib.pyplot as plt\n",
    "\n",
    "# We initialize the random seed to make the results below reproducible. This is\n",
    "# a common trick used to have deterministic results in a notebook with random\n",
    "# numbers. If we want to repeat the simulations below from a truly random\n",
    "# starting point, we comment out the line below.\n",
    "\n",
    "np.random.seed(123456)"
   ]
  },
  {
   "cell_type": "code",
   "execution_count": 2,
   "metadata": {},
   "outputs": [
    {
     "name": "stdout",
     "output_type": "stream",
     "text": [
      "The result of simulating 20 sub-intervals of width 0.05 with an\n",
      "average rate of 3.5 events in the whole unit interval and\n",
      "0.175 events per sub-interval\n",
      "\n",
      "Events:\n",
      "[1. 0. 0. 0. 0. 0. 0. 0. 1. 0. 0. 0. 1. 0. 0. 0. 0. 0. 0. 1.]\n",
      "\n",
      "We observe 4.0 events in total\n",
      "The distances between consecutive events are: [0.4  0.2  0.35]\n"
     ]
    },
    {
     "data": {
      "image/png": "[encoded data removed]",
      "text/plain": [
       "<Figure size 576x72 with 1 Axes>"
      ]
     },
     "metadata": {
      "needs_background": "light"
     },
     "output_type": "display_data"
    }
   ],
   "source": [
    "# Setup the parameters of the simulation.\n",
    "\n",
    "# The average number of events per unit interval. This can be any value. We use\n",
    "# 3.5 as an example.\n",
    "\n",
    "mu = 3.5\n",
    "\n",
    "# The number of sub-intervals into which we divide the unit interval. We start\n",
    "# with a small n for demonstration purposes but will increase it later to get\n",
    "# more accurate results.\n",
    "\n",
    "n = 20\n",
    "\n",
    "# The probability of observing one event in each sub-interval. This is the same\n",
    "# for each sub-interval since we assume they are identical.\n",
    "\n",
    "p = mu / n\n",
    "\n",
    "# How many events occur in one interval and what are the distances between\n",
    "# consecutive events?\n",
    "\n",
    "# For each of the n sub-intervals, generate a random value to check whether an\n",
    "# event occurred with probability p, and store the result.\n",
    "\n",
    "events_occurred = np.empty(n)  # Create an empty array with n slots\n",
    "for i in range(n):\n",
    "    events_occurred[i] = sts.uniform.rvs(loc=0, scale=1) < p\n",
    "\n",
    "print(\n",
    "    f'The result of simulating {n} sub-intervals of width {1/n} with an\\n'\n",
    "    f'average rate of {mu} events in the whole unit interval and\\n'\n",
    "    f'{mu/n} events per sub-interval\\n')\n",
    "\n",
    "print('Events:')\n",
    "print(events_occurred)\n",
    "print()\n",
    "\n",
    "total_events = np.sum(events_occurred)\n",
    "print(f'We observe {total_events} events in total')\n",
    "\n",
    "distances = np.diff(np.nonzero(events_occurred)[0]) / n\n",
    "print(f'The distances between consecutive events are: {distances}')\n",
    "\n",
    "plt.figure(figsize=(8, 1))\n",
    "plt.plot(np.arange(0.5, n+0.5)/n, events_occurred, 'k.')\n",
    "plt.xlabel('distance inside unit interval')\n",
    "plt.xlim(0, 1)\n",
    "plt.yticks([0, 1], ['no event', 'event'])\n",
    "plt.show()"
   ]
  },
  {
   "cell_type": "markdown",
   "metadata": {},
   "source": [
    "Let's try that with a larger $n$. So, more sub-intervals and a smaller probability of an event per sub-interval.\n",
    "\n",
    "Furthermore, we change the way we generate random events to make the code more efficient – see below."
   ]
  },
  {
   "cell_type": "code",
   "execution_count": 3,
   "metadata": {},
   "outputs": [
    {
     "name": "stdout",
     "output_type": "stream",
     "text": [
      "We observe 6 events in total\n",
      "The distances between consecutive events are: [0.17 0.2  0.48 0.01 0.07]\n"
     ]
    },
    {
     "data": {
      "image/png": "[encoded data removed]",
      "text/plain": [
       "<Figure size 576x72 with 1 Axes>"
      ]
     },
     "metadata": {
      "needs_background": "light"
     },
     "output_type": "display_data"
    }
   ],
   "source": [
    "n = 100\n",
    "p = mu / n\n",
    "\n",
    "# In the previous cell, we generated events using a for-loop. Using NumPy, we\n",
    "# can do this faster and with less code by generating n uniform random numbers\n",
    "# in one line and comparing all of them to p.\n",
    "\n",
    "# So, instead of doing this:\n",
    "\n",
    "events_occurred = np.empty(n)\n",
    "for i in range(n):\n",
    "    events_occurred[i] = sts.uniform.rvs(loc=0, scale=1) < p\n",
    "\n",
    "# We now do this, to get the same results:\n",
    "\n",
    "events_occurred = sts.uniform.rvs(loc=0, scale=1, size=n) < p\n",
    "\n",
    "# Compute the total events and distances and plot the events\n",
    "\n",
    "total_events = np.sum(events_occurred)\n",
    "print(f'We observe {total_events} events in total')\n",
    "\n",
    "distances = np.diff(np.nonzero(events_occurred)[0]) / n\n",
    "print(f'The distances between consecutive events are: {distances}')\n",
    "\n",
    "plt.figure(figsize=(8, 1))\n",
    "plt.plot(np.arange(0.5, n+0.5)/n, events_occurred, 'k.')\n",
    "plt.xlabel('distance inside unit interval')\n",
    "plt.xlim(0, 1)\n",
    "plt.yticks([0, 1], ['no event', 'event'])\n",
    "plt.show()"
   ]
  },
  {
   "cell_type": "markdown",
   "metadata": {},
   "source": [
    "## Run an experiment\n",
    "\n",
    "Next, we run an experiment with 10,000 trials using $n=1000$ and still $\\mu=3.5$. We record how many events occur in each trial and what the distances between consecutive events are. We'll use these recorded values to plot histograms and compare them to the theoretical results.\n",
    "\n",
    "The number of events in one interval should follow a Poisson distribution (according to the theory) and the distances between consecutive events should follow an exponential distribution."
   ]
  },
  {
   "cell_type": "code",
   "execution_count": 4,
   "metadata": {},
   "outputs": [],
   "source": [
    "n = 1000  # Number of sub-intervals\n",
    "p = mu / n\n",
    "\n",
    "# The more trials we run, the more accurate our results become since we average\n",
    "# out the random effects.\n",
    "\n",
    "number_of_trials = 10000\n",
    "\n",
    "# We use the lists below to record all results from all 10,000 runs of the\n",
    "# simulation. Note that we record 1 value for the number of events at the end\n",
    "# of each trial but many values for the distances between these events.\n",
    "\n",
    "total_events = []\n",
    "distances = []\n",
    "\n",
    "for trial in range(number_of_trials):\n",
    "    events_occurred = sts.uniform.rvs(loc=0, scale=1, size=n) < p\n",
    "    total_events.append(np.sum(events_occurred))\n",
    "    distances.extend(np.diff(np.nonzero(events_occurred)[0]) / n)"
   ]
  },
  {
   "cell_type": "markdown",
   "metadata": {},
   "source": [
    "## Distribution over the number of events: Poisson\n",
    "\n",
    "Below we plot a histogram of the number of events in the unit interval and plot the probability mass function of the Poisson distribution on top of it to show how they line up. They match well."
   ]
  },
  {
   "cell_type": "code",
   "execution_count": 5,
   "metadata": {},
   "outputs": [
    {
     "data": {
      "image/png": "[encoded data removed]",
      "text/plain": [
       "<Figure size 576x432 with 1 Axes>"
      ]
     },
     "metadata": {
      "needs_background": "light"
     },
     "output_type": "display_data"
    }
   ],
   "source": [
    "plt.figure(figsize=(8, 6))\n",
    "\n",
    "# Plot a histogram of simulated event counts\n",
    "\n",
    "plt.hist(\n",
    "    total_events, bins=max(total_events), align='left', density=True,\n",
    "    label='empirical results')\n",
    "\n",
    "# Plot the theoretical distribution - Poisson with rate parameter mu\n",
    "\n",
    "x = np.arange(0, max(total_events)+1)\n",
    "plt.plot(x, sts.poisson.pmf(x, mu), 'o--', label='theoretical value')\n",
    "\n",
    "plt.xlabel('number of events')\n",
    "plt.ylabel('probability')\n",
    "plt.legend()\n",
    "plt.show()"
   ]
  },
  {
   "cell_type": "markdown",
   "metadata": {},
   "source": [
    "## Distribution over the distances between events: exponential\n",
    "\n",
    "Next, we plot a histogram of the distances between consecutive events along with the theoretical exponential distribution. This time, the empirical and theoretical results do not seem to match very well."
   ]
  },
  {
   "cell_type": "code",
   "execution_count": 6,
   "metadata": {},
   "outputs": [
    {
     "data": {
      "image/png": "[encoded data removed]",
      "text/plain": [
       "<Figure size 576x432 with 1 Axes>"
      ]
     },
     "metadata": {
      "needs_background": "light"
     },
     "output_type": "display_data"
    }
   ],
   "source": [
    "plt.figure(figsize=(8, 6))\n",
    "\n",
    "# Plot a histogram of simulated distances\n",
    "\n",
    "plt.hist(distances, bins=50, density=True, label='empirical results')\n",
    "\n",
    "# Plot the theoretical distribution - exponential with rate parameter mu. Note\n",
    "# that we have to use a scale rather than a rate parameter in SciPy. Scale is\n",
    "# always defined as 1/rate.\n",
    "\n",
    "x = np.linspace(0, max(distances))\n",
    "plt.plot(x, sts.expon.pdf(x, scale=1/mu), '-', label='theoretical value')\n",
    "\n",
    "plt.xlabel('distance between consecutive events')\n",
    "plt.ylabel('probability density')\n",
    "plt.legend()\n",
    "plt.show()"
   ]
  },
  {
   "cell_type": "markdown",
   "metadata": {},
   "source": [
    "It turns out, the simulation we have so far is correct for counting the number of events in a unit interval but is incorrect for computing the distances between consecutive events.\n",
    "\n",
    "The problem is that when we generate events in only 1 unit interval (with $n$ sub-intervals), we miss the cases where the distance between consecutive events is greater than 1. This might seem unlikely if the average number of events per unit interval is 3.5 but it can happen. If we simulate a larger interval, namely 10 unit intervals rather than 1 unit interval, we can observe some of these longer waiting times and add them to our results."
   ]
  },
  {
   "cell_type": "code",
   "execution_count": 7,
   "metadata": {},
   "outputs": [],
   "source": [
    "# We use the same n and mu but not below that we generate events for 10*n\n",
    "# sub-intervals rather than just 1. This corresponds to simulating 10 unit\n",
    "# intervals rather than just 1.\n",
    "\n",
    "intervals = 10\n",
    "sub_intervals = intervals * n\n",
    "\n",
    "distances = []\n",
    "for trial in range(number_of_trials):\n",
    "    events_occurred = sts.uniform.rvs(loc=0, scale=1, size=sub_intervals) < p\n",
    "    distances.extend(np.diff(np.nonzero(events_occurred)[0]) / n)"
   ]
  },
  {
   "cell_type": "markdown",
   "metadata": {},
   "source": [
    "This is what the results for a single unit interval in the final trial looks like. It looks similar to what we had before. In this case, we actually observed 0 events which meant we cannot compute the distance between consecutive events. This is precisely the problem we're trying to address."
   ]
  },
  {
   "cell_type": "code",
   "execution_count": 8,
   "metadata": {},
   "outputs": [
    {
     "data": {
      "image/png": "[encoded data removed]",
      "text/plain": [
       "<Figure size 57.6x72 with 1 Axes>"
      ]
     },
     "metadata": {
      "needs_background": "light"
     },
     "output_type": "display_data"
    }
   ],
   "source": [
    "plt.figure(figsize=(8/10, 1))\n",
    "plt.plot(np.arange(0.5, n+0.5)/n, events_occurred[:n], 'k.')\n",
    "plt.xlabel('distance')\n",
    "plt.xlim(0, 1)\n",
    "plt.yticks([0, 1], ['no event', 'event'])\n",
    "plt.show()"
   ]
  },
  {
   "cell_type": "markdown",
   "metadata": {},
   "source": [
    "We plot the first two unit intervals. The dotted vertical line indicates the boundary between the first two unit intervals.\n",
    "\n",
    "Here we see two events in the second interval. The distance to the first event is approximately 1.2 and the distance between the first and the second events seems to be approximately 0.3."
   ]
  },
  {
   "cell_type": "code",
   "execution_count": 9,
   "metadata": {},
   "outputs": [
    {
     "data": {
      "image/png": "[encoded data removed]",
      "text/plain": [
       "<Figure size 115.2x72 with 1 Axes>"
      ]
     },
     "metadata": {
      "needs_background": "light"
     },
     "output_type": "display_data"
    }
   ],
   "source": [
    "plt.figure(figsize=(8/10*2, 1))\n",
    "plt.plot(np.arange(0.5, 2*n+0.5)/n, events_occurred[:2*n], 'k.')\n",
    "plt.vlines(1, 0, 1, linestyle=':')\n",
    "plt.xlabel('distance')\n",
    "plt.xlim(0, 2)\n",
    "plt.yticks([0, 1], ['no event', 'event'])\n",
    "plt.show()"
   ]
  },
  {
   "cell_type": "markdown",
   "metadata": {},
   "source": [
    "Below we visualize all 10 unit intervals from the last trial in the experiment. We see more events spread out over the 10 unit intervals. The first two unit intervals are the same as the ones visualized above. Note the large gaps between some events, which we would not (or would very rarely) observe when looking at only a single unit interval. Being able to simulate these larger gaps allows us to generate more accurate empirical results."
   ]
  },
  {
   "cell_type": "code",
   "execution_count": 10,
   "metadata": {},
   "outputs": [
    {
     "data": {
      "image/png": "[encoded data removed]",
      "text/plain": [
       "<Figure size 576x72 with 1 Axes>"
      ]
     },
     "metadata": {
      "needs_background": "light"
     },
     "output_type": "display_data"
    }
   ],
   "source": [
    "plt.figure(figsize=(8, 1))\n",
    "plt.plot(np.arange(0.5, 10*n+0.5)/n, events_occurred, 'k.')\n",
    "plt.vlines(np.arange(1, 10), 0, 1, linestyle=':')\n",
    "plt.xlabel('distance')\n",
    "plt.xlim(0, 10)\n",
    "plt.xticks(range(11))\n",
    "plt.yticks([0, 1], ['no event', 'event'])\n",
    "plt.show()"
   ]
  },
  {
   "cell_type": "markdown",
   "metadata": {},
   "source": [
    "Now we plot the empirical and theoretical distributions over distances again. This time they match much more closely."
   ]
  },
  {
   "cell_type": "code",
   "execution_count": 11,
   "metadata": {},
   "outputs": [
    {
     "data": {
      "image/png": "[encoded data removed]",
      "text/plain": [
       "<Figure size 576x432 with 1 Axes>"
      ]
     },
     "metadata": {
      "needs_background": "light"
     },
     "output_type": "display_data"
    }
   ],
   "source": [
    "plt.figure(figsize=(8, 6))\n",
    "\n",
    "# Plot a histogram of simulated distances\n",
    "\n",
    "plt.hist(distances, bins=50, density=True, label='empirical results')\n",
    "\n",
    "# Plot the theoretical distribution - exponential with rate parameter mu. Note\n",
    "# that we have to use a scale rather than a rate parameter in SciPy. Scale is\n",
    "# always defined as 1/rate.\n",
    "\n",
    "x = np.linspace(0, max(distances))\n",
    "plt.plot(x, sts.expon.pdf(x, scale=1/mu), '-', label='theoretical value')\n",
    "\n",
    "plt.xlabel('distance between consecutive events')\n",
    "plt.ylabel('probability density')\n",
    "plt.legend()\n",
    "plt.show()"
   ]
  },
  {
   "cell_type": "code",
   "execution_count": null,
   "metadata": {},
   "outputs": [],
   "source": []
  },
  {
   "cell_type": "markdown",
   "metadata": {},
   "source": [
    "# Questions"
   ]
  },
  {
   "cell_type": "markdown",
   "metadata": {},
   "source": [
    "## 1\n",
    "\n",
    "1 - This assumption is used to set up the distribution for the arrival <br>\n",
    "\n",
    "2 - This is also used to set up the distributions for both arrival and departure <br>\n",
    "\n",
    "3 - Because the rate is still the same <br>\n",
    "\n",
    "4 - Because if we simulate with 1 unit interval, we miss the cases where the distance between consecutive events is greater than 1"
   ]
  },
  {
   "cell_type": "markdown",
   "metadata": {},
   "source": [
    "## 2\n",
    "\n",
    "1 - $$ L = \\frac{\\rho^2}{2(1-\\rho)}  $$\n",
    "$$ \\rho = \\frac{\\lambda}{\\mu} = \\frac{\\frac{1}{3}}{\\frac{1}{2.5}} = 0.8333 $$\n",
    "$$ L = \\frac{0.8333^2}{2(1-0.8333)} = 2.083 $$"
   ]
  },
  {
   "cell_type": "markdown",
   "metadata": {},
   "source": [
    "2 - \n",
    "using little's law\n",
    "$$ L = \\lambda W = \\frac{1}{3} \\frac{\\rho}{\\mu-\\lambda} = \\frac{1}{3} \\frac{0.8333}{\\frac{1}{2.5}-\\frac{1}{3}} $$\n",
    "$$ = 4.167 $$\n"
   ]
  },
  {
   "cell_type": "markdown",
   "metadata": {},
   "source": [
    "3 - \n",
    "$$ R_{M/D/1} =\\frac{1}{\\mu} + \\frac{\\rho}{2\\mu(1-\\rho)} = 2.5 + \\frac{0.8333}{\\frac{2}{2.5}(1-0.8333)} = 8.748 $$\n",
    "$$ R_{M/M/1} =\\frac{1}{\\mu} + \\frac{\\rho}{\\mu-\\lambda} = 2.5 + \\frac{0.8333}{\\frac{1}{2.5}-\\frac{1}{3}} = 14.999 $$"
   ]
  },
  {
   "cell_type": "markdown",
   "metadata": {},
   "source": [
    "## 3\n",
    "\n",
    "1 - They are both M/M/3 <br>\n",
    "\n",
    "2 - The same?"
   ]
  },
  {
   "cell_type": "markdown",
   "metadata": {},
   "source": [
    "## 4\n",
    "\n",
    "I think that #TheoreticalAnalysis was at the core of this pcw as a whole. From the analysis of the assumptions in the first question, to the mathematical analysis of the second question."
   ]
  },
  {
   "cell_type": "markdown",
   "metadata": {},
   "source": []
  }
 ],
 "metadata": {
  "kernelspec": {
   "display_name": "Python 3",
   "language": "python",
   "name": "python3"
  },
  "language_info": {
   "codemirror_mode": {
    "name": "ipython",
    "version": 3
   },
   "file_extension": ".py",
   "mimetype": "text/x-python",
   "name": "python",
   "nbconvert_exporter": "python",
   "pygments_lexer": "ipython3",
   "version": "3.8.8"
  }
 },
 "nbformat": 4,
 "nbformat_minor": 4
}
