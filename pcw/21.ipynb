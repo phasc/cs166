{
 "cells": [
  {
   "cell_type": "markdown",
   "metadata": {},
   "source": [
    "Q1: Assuming that lambda is <= 1, w_ij would always converge to 1 given the repeated repetition of the weight update. Because the last part of the equation will either always be positive or zero and we know that the upper bound of w_ij is 1, then we’d always multiply w_ij by a positive number and beta, meaning that delta_w_ij would be positive. If delta is positive it means that the w_ij is growing.\n",
    "\n",
    "\n",
    "Q3: Assuming that lambda is 1, if the difference in opinion is very large (~1), the weight would not be updated or would be updated by a very small amount. This happens because the last part of the equation would become a number very close to 0 (1-1), meaning that the entire delta equation becomes zero.\n",
    "\n",
    "Q4: When two nodes with similar opinions interact the weight grows very quickly because the last part of the equation becomes almost one meaning that we practically get the maximum weight update for any given weight.\n",
    "\n",
    "Q5: Moderate weight update - the key is in the last part of the equation."
   ]
  },
  {
   "cell_type": "markdown",
   "metadata": {},
   "source": []
  }
 ],
 "metadata": {
  "language_info": {
   "name": "python"
  },
  "orig_nbformat": 4
 },
 "nbformat": 4,
 "nbformat_minor": 2
}
