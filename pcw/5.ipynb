{
 "cells": [
  {
   "cell_type": "markdown",
   "metadata": {},
   "source": [
    "11.1\n",
    "\n",
    "11.2"
   ]
  },
  {
   "cell_type": "markdown",
   "metadata": {},
   "source": [
    "![alt text](5.png)"
   ]
  },
  {
   "cell_type": "markdown",
   "metadata": {},
   "source": [
    "12.1<br>\n",
    "$ {2^{2^{(2+1)}}}^2 = 1.3 \\times 10^{154} $\n",
    "\n",
    "\n",
    "12.2<br>\n",
    "$ {3^{3^{(2+1)}}}^3 = 1.3 \\times 10^{3638334640024} $\n",
    "\n",
    "12.3<br>\n",
    "$ 3^{100^2} = 1.6 \\times 10^{4771} $\n"
   ]
  }
 ],
 "metadata": {
  "language_info": {
   "name": "python"
  },
  "orig_nbformat": 4
 },
 "nbformat": 4,
 "nbformat_minor": 2
}
