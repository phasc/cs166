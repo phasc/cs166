{
 "cells": [
  {
   "cell_type": "code",
   "execution_count": 37,
   "metadata": {},
   "outputs": [],
   "source": [
    "# Simple CA simulator in Python\n",
    "#\n",
    "# *** Forest fire ***\n",
    "#\n",
    "# Copyright 2008-2012 Hiroki Sayama\n",
    "# sayama@binghamton.edu\n",
    "\n",
    "# Modified to run with Python 3\n",
    "\n",
    "import matplotlib.pyplot as plt\n",
    "\n",
    "from IPython.display import HTML\n",
    "import tempfile; tempfile.tempdir='./'\n",
    "\n",
    "import time as tm\n",
    "\n",
    "%matplotlib inline\n",
    "\n",
    "import pylab as PL\n",
    "import random as RD\n",
    "import scipy as SP\n",
    "import numpy as np\n",
    "\n",
    "width = 100\n",
    "height = 100\n",
    "initProb = 0.4\n",
    "empty, tree, fire, char = range(4)\n",
    "\n",
    "def init():\n",
    "    global time, config, nextConfig\n",
    "\n",
    "    time = 0\n",
    "\n",
    "    config = SP.zeros([height, width])\n",
    "    for x in range(width):\n",
    "        for y in range(height):\n",
    "            if RD.random() < initProb:\n",
    "                state = tree\n",
    "            else:\n",
    "                state = empty\n",
    "            config[y, x] = state\n",
    "    config[height//2, width//2] = fire\n",
    "\n",
    "    nextConfig = SP.zeros([height, width])\n",
    "\n",
    "def draw():\n",
    "    PL.cla()\n",
    "    PL.pcolor(config, vmin = 0, vmax = 3, cmap = PL.cm.binary)\n",
    "    PL.axis('image')\n",
    "    PL.title('t = ' + str(time))\n",
    "    PL.show()\n",
    "\n",
    "def step():\n",
    "    global time, config, nextConfig\n",
    "\n",
    "    time += 1\n",
    "\n",
    "    for x in range(width):\n",
    "        for y in range(height):\n",
    "            state = config[y, x]\n",
    "            if state == fire:\n",
    "                state = char\n",
    "            elif state == tree:\n",
    "                for dx in range(-1, 2):\n",
    "                    for dy in range(-1, 2):\n",
    "                        if config[(y+dy)%height, (x+dx)%width] == fire:\n",
    "                            state = fire\n",
    "            nextConfig[y, x] = state\n",
    "\n",
    "    config, nextConfig = nextConfig, config\n",
    "    \n"
   ]
  },
  {
   "cell_type": "code",
   "execution_count": 23,
   "metadata": {},
   "outputs": [
    {
     "name": "stderr",
     "output_type": "stream",
     "text": [
      "<ipython-input-22-94be85d295db>:33: DeprecationWarning: scipy.zeros is deprecated and will be removed in SciPy 2.0.0, use numpy.zeros instead\n",
      "  config = SP.zeros([height, width])\n",
      "<ipython-input-22-94be85d295db>:43: DeprecationWarning: scipy.zeros is deprecated and will be removed in SciPy 2.0.0, use numpy.zeros instead\n",
      "  nextConfig = SP.zeros([height, width])\n",
      "MovieWriter imagemagick unavailable; using Pillow instead.\n"
     ]
    },
    {
     "name": "stdout",
     "output_type": "stream",
     "text": [
      "./tmpz0bcjvej.gif\n"
     ]
    },
    {
     "data": {
      "text/html": [
       "\n",
       "           <image style=\"width:200\" src=\"./tmpz0bcjvej.gif\" >\n",
       "            "
      ],
      "text/plain": [
       "<IPython.core.display.HTML object>"
      ]
     },
     "metadata": {},
     "output_type": "display_data"
    },
    {
     "data": {
      "image/png": "[encoded data removed]",
      "text/plain": [
       "<Figure size 432x288 with 1 Axes>"
      ]
     },
     "metadata": {
      "needs_background": "light"
     },
     "output_type": "display_data"
    }
   ],
   "source": [
    "#animating the model\n",
    "\n",
    "from celluloid import Camera\n",
    "\n",
    "fig = plt.figure()\n",
    "camera = Camera(fig)\n",
    "\n",
    "init()\n",
    "for i in range(100):\n",
    "    step()\n",
    "    plt.pcolor(config, vmin = 0, vmax = 3, cmap = PL.cm.binary)\n",
    "    camera.snap()\n",
    "\n",
    "anim = camera.animate()\n",
    "\n",
    "fname = tempfile.mktemp('.gif')\n",
    "print(fname)\n",
    "anim.save(fname, writer = 'imagemagick')\n",
    "tm.sleep(0.1) # make sure file is saved\n",
    "display(HTML(\"\"\"\n",
    "           <image style=\"width:200\" src=\"{}\" >\n",
    "            \"\"\".format(fname)))"
   ]
  },
  {
   "cell_type": "code",
   "execution_count": 40,
   "metadata": {},
   "outputs": [
    {
     "name": "stderr",
     "output_type": "stream",
     "text": [
      "<ipython-input-37-6d36725e0f49>:34: DeprecationWarning: scipy.zeros is deprecated and will be removed in SciPy 2.0.0, use numpy.zeros instead\n",
      "  config = SP.zeros([height, width])\n",
      "<ipython-input-37-6d36725e0f49>:44: DeprecationWarning: scipy.zeros is deprecated and will be removed in SciPy 2.0.0, use numpy.zeros instead\n",
      "  nextConfig = SP.zeros([height, width])\n"
     ]
    },
    {
     "data": {
      "text/plain": [
       "<ErrorbarContainer object of 3 artists>"
      ]
     },
     "execution_count": 40,
     "metadata": {},
     "output_type": "execute_result"
    },
    {
     "data": {
      "image/png": "[encoded data removed]",
      "text/plain": [
       "<Figure size 432x288 with 1 Axes>"
      ]
     },
     "metadata": {
      "needs_background": "light"
     },
     "output_type": "display_data"
    }
   ],
   "source": [
    "def getTotalBrun(config):\n",
    "    total = 0\n",
    "\n",
    "    for x in range(width):\n",
    "        for y in range(height):\n",
    "            state = config[y, x]\n",
    "            if state == char:\n",
    "                total+=1\n",
    "    \n",
    "    return total\n",
    "\n",
    "totals = []\n",
    "for i in range(1,10):\n",
    "    initProb = i/10\n",
    "    tot = []\n",
    "    for _ in range(10):\n",
    "        init()\n",
    "        for i in range(100):\n",
    "            step()\n",
    "        tot.append(getTotalBrun(config))\n",
    "    totals.append(tot)\n",
    "\n",
    "plt.errorbar(x=[i/10 for i in range(1, 10)], y=[np.mean(i) for i in totals], yerr=[1.96*np.std(i) for i in totals],\n",
    "            color='black', marker='o', capsize=5, linestyle='--', linewidth=1)\n",
    "\n",
    "    "
   ]
  },
  {
   "cell_type": "markdown",
   "metadata": {},
   "source": [
    "### Strech goal"
   ]
  },
  {
   "cell_type": "code",
   "execution_count": 49,
   "metadata": {},
   "outputs": [],
   "source": [
    "width = 100\n",
    "height = 100\n",
    "initProb = 0.6\n",
    "igniteProb = 0.6\n",
    "empty, tree, fire, char = range(4)\n",
    "\n",
    "def init():\n",
    "    global time, config, nextConfig\n",
    "\n",
    "    time = 0\n",
    "\n",
    "    config = SP.zeros([height, width])\n",
    "    for x in range(width):\n",
    "        for y in range(height):\n",
    "            if RD.random() < initProb:\n",
    "                state = tree\n",
    "            else:\n",
    "                state = empty\n",
    "            config[y, x] = state\n",
    "    config[height//2, width//2] = fire\n",
    "\n",
    "    nextConfig = SP.zeros([height, width])\n",
    "\n",
    "def draw():\n",
    "    PL.cla()\n",
    "    PL.pcolor(config, vmin = 0, vmax = 3, cmap = PL.cm.binary)\n",
    "    PL.axis('image')\n",
    "    PL.title('t = ' + str(time))\n",
    "    PL.show()\n",
    "\n",
    "def step2():\n",
    "    global time, config, nextConfig\n",
    "\n",
    "    time += 1\n",
    "\n",
    "    for x in range(width):\n",
    "        for y in range(height):\n",
    "            state = config[y, x]\n",
    "            if state == fire:\n",
    "                state = char\n",
    "            elif state == tree:\n",
    "                for dx in range(-1, 2):\n",
    "                    for dy in range(-1, 2):\n",
    "                        if config[(y+dy)%height, (x+dx)%width] == fire:\n",
    "                            if RD.random() < igniteProb:\n",
    "                                state = fire\n",
    "            nextConfig[y, x] = state\n",
    "\n",
    "    config, nextConfig = nextConfig, config"
   ]
  },
  {
   "cell_type": "code",
   "execution_count": 50,
   "metadata": {},
   "outputs": [
    {
     "name": "stderr",
     "output_type": "stream",
     "text": [
      "<ipython-input-49-7b60182f3cff>:12: DeprecationWarning: scipy.zeros is deprecated and will be removed in SciPy 2.0.0, use numpy.zeros instead\n",
      "  config = SP.zeros([height, width])\n",
      "<ipython-input-49-7b60182f3cff>:22: DeprecationWarning: scipy.zeros is deprecated and will be removed in SciPy 2.0.0, use numpy.zeros instead\n",
      "  nextConfig = SP.zeros([height, width])\n",
      "MovieWriter imagemagick unavailable; using Pillow instead.\n"
     ]
    },
    {
     "name": "stdout",
     "output_type": "stream",
     "text": [
      "./tmpfhbpw89l.gif\n"
     ]
    },
    {
     "data": {
      "text/html": [
       "\n",
       "           <image style=\"width:200\" src=\"./tmpfhbpw89l.gif\" >\n",
       "            "
      ],
      "text/plain": [
       "<IPython.core.display.HTML object>"
      ]
     },
     "metadata": {},
     "output_type": "display_data"
    },
    {
     "data": {
      "image/png": "[encoded data removed]",
      "text/plain": [
       "<Figure size 432x288 with 1 Axes>"
      ]
     },
     "metadata": {
      "needs_background": "light"
     },
     "output_type": "display_data"
    }
   ],
   "source": [
    "fig = plt.figure()\n",
    "camera = Camera(fig)\n",
    "\n",
    "init()\n",
    "for i in range(100):\n",
    "    step2()\n",
    "    plt.pcolor(config, vmin = 0, vmax = 3, cmap = PL.cm.binary)\n",
    "    camera.snap()\n",
    "\n",
    "anim = camera.animate()\n",
    "\n",
    "fname = tempfile.mktemp('.gif')\n",
    "print(fname)\n",
    "anim.save(fname, writer = 'imagemagick')\n",
    "tm.sleep(0.1) # make sure file is saved\n",
    "display(HTML(\"\"\"\n",
    "           <image style=\"width:200\" src=\"{}\" >\n",
    "            \"\"\".format(fname)))"
   ]
  },
  {
   "cell_type": "code",
   "execution_count": null,
   "metadata": {},
   "outputs": [],
   "source": []
  }
 ],
 "metadata": {
  "interpreter": {
   "hash": "ea4ccc951e668b3195aa8f7cc9a4ade9f2550dae6498a131c5c502cc2f40fdfa"
  },
  "kernelspec": {
   "display_name": "Python 3.8.8 64-bit ('base': conda)",
   "language": "python",
   "name": "python3"
  },
  "language_info": {
   "codemirror_mode": {
    "name": "ipython",
    "version": 3
   },
   "file_extension": ".py",
   "mimetype": "text/x-python",
   "name": "python",
   "nbconvert_exporter": "python",
   "pygments_lexer": "ipython3",
   "version": "3.8.8"
  },
  "orig_nbformat": 4
 },
 "nbformat": 4,
 "nbformat_minor": 2
}
