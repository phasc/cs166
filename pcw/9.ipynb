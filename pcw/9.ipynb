{
 "cells": [
  {
   "cell_type": "markdown",
   "metadata": {},
   "source": [
    "#### 1 - For which initial density and radius parameters does the MFA work well?\n",
    "\n",
    "for r = 1, it works well for 0.3, 0.5, and 0.7 <br>\n",
    "for r = 2, it works well for everyone <br>\n",
    "for r = 3 it work well for everyone except 0.5 <br>\n",
    "\n",
    "#### 2 - Why does the MFA match the simulation results nearly perfectly after 1 step but not so well after 2 or more steps?\n",
    "\n",
    "Because the first step for the simulation and for the mfa is basically the same thing\n",
    "\n",
    "#### 3 - Based on the final plot in the notebook, explain how average traffic flow varies with the number of cars on the road. What are the salient features of the plot? Our hope is that the mean-field approximation will be able to reproduce these features.\n",
    "\n",
    "After it reaches it top flow capacity (around 0.1 = 0.4), it linearly decreases to 0. Before that it linearly increasses very fast. \n",
    "\n",
    "#### 4 -  Compute the mean-field approximation for the transition probabilities from a speed of 1 to all other speeds in {0, 1, …, 5}.\n",
    "\n",
    "from v=1 we can either go to v=0 or to v=2, depending if there is a car in front or not, or if you slow down or not. The probability of having a car is simply the dendity d, and the probability of slowing down is p, so $$ P(v1 -> v0) = v_1 (d +(1-d)p)  $$ and $$ P(v1 -> v2) = v_1(1-d)(1-p) $$  All the other probabilities are 0\n",
    "\n",
    "#### 5 - Given the distribution over speeds from the MFA, [v0, v1, . . . , vm] , what is the average traffic flow?\n",
    "\n",
    "it depends of the density. If the density is high, cars are more likelly to slow down, if the density is low cars are more likelly to speed up\n"
   ]
  },
  {
   "cell_type": "markdown",
   "metadata": {},
   "source": []
  }
 ],
 "metadata": {
  "language_info": {
   "name": "python"
  },
  "orig_nbformat": 4
 },
 "nbformat": 4,
 "nbformat_minor": 2
}
