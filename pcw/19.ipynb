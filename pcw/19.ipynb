{
 "cells": [
  {
   "cell_type": "code",
   "execution_count": 2,
   "metadata": {},
   "outputs": [],
   "source": [
    "import matplotlib.pyplot as plt\n",
    "from pylab import *\n",
    "import networkx as nx\n",
    "import random as rd\n",
    "import numpy as np\n",
    "\n",
    "def initialize():\n",
    "    global g\n",
    "    g = nx.karate_club_graph()\n",
    "    g.pos = nx.spring_layout(g)\n",
    "    for i in g.nodes:\n",
    "        g.nodes[i]['state'] = 1 if rd.random() < .5 else 0\n",
    "\n",
    "def observe():\n",
    "    global g\n",
    "    plt.cla()\n",
    "    nx.draw(g, vmin = 0, vmax = 1,\n",
    "            node_color = [g.nodes[i]['state'] for i in g.nodes],\n",
    "            pos = g.pos)\n",
    "\n",
    "def update():\n",
    "    global g\n",
    "    listener = rd.choice(list(g.nodes))\n",
    "    speaker = rd.choice(list(g.neighbors(listener)))\n",
    "    g.nodes[listener]['state'] = g.nodes[speaker]['state']\n",
    "\n",
    "def check_consensus():\n",
    "    global g\n",
    "    states = [i[1]['state'] for i in g.nodes.data()]\n",
    "    density = sum(states)/len(states)\n",
    "    if density == 1 or density == 0:\n",
    "        return True\n",
    "    return False    "
   ]
  },
  {
   "cell_type": "code",
   "execution_count": 3,
   "metadata": {},
   "outputs": [],
   "source": [
    "res = []\n",
    "for _ in range(1000):\n",
    "    steps = 0\n",
    "    initialize()\n",
    "    while not check_consensus():\n",
    "        update()\n",
    "        steps += 1\n",
    "    res.append(steps)"
   ]
  },
  {
   "cell_type": "code",
   "execution_count": 9,
   "metadata": {},
   "outputs": [
    {
     "data": {
      "image/png": "[encoded data removed]",
      "text/plain": [
       "<Figure size 432x288 with 1 Axes>"
      ]
     },
     "metadata": {
      "needs_background": "light"
     },
     "output_type": "display_data"
    }
   ],
   "source": [
    "plt.hist(res, density=True, bins=100)\n",
    "plt.axvline(np.mean(res), label='mean', c='red')\n",
    "plt.axvline(np.median(res), label='median', c='orange')\n",
    "plt.legend()\n",
    "plt.show()"
   ]
  },
  {
   "cell_type": "code",
   "execution_count": 23,
   "metadata": {},
   "outputs": [],
   "source": [
    "def update_rev():\n",
    "    global g\n",
    "    speaker = rd.choice(list(g.nodes))\n",
    "    listener = rd.choice(list(g.neighbors(speaker)))\n",
    "    g.nodes[listener]['state'] = g.nodes[speaker]['state']\n",
    "\n",
    "\n",
    "\n",
    "def update_edge():\n",
    "    global g\n",
    "    edge = rd.choice(list(g.edges))\n",
    "    ind = round(rd.random())\n",
    "    speaker = edge[ind]\n",
    "    listener = edge[1-ind]\n",
    "    g.nodes[listener]['state'] = g.nodes[speaker]['state']"
   ]
  },
  {
   "cell_type": "code",
   "execution_count": 24,
   "metadata": {},
   "outputs": [],
   "source": [
    "res = []\n",
    "for _ in range(1000):\n",
    "    steps = 0\n",
    "    initialize()\n",
    "    while not check_consensus():\n",
    "        update_rev()\n",
    "        steps += 1\n",
    "    res.append(steps)"
   ]
  },
  {
   "cell_type": "code",
   "execution_count": 25,
   "metadata": {},
   "outputs": [
    {
     "data": {
      "image/png": "[encoded data removed]",
      "text/plain": [
       "<Figure size 432x288 with 1 Axes>"
      ]
     },
     "metadata": {
      "needs_background": "light"
     },
     "output_type": "display_data"
    }
   ],
   "source": [
    "plt.hist(res, density=True, bins=100)\n",
    "plt.axvline(np.mean(res), label='mean', c='red')\n",
    "plt.axvline(np.median(res), label='median', c='orange')\n",
    "plt.legend()\n",
    "plt.show()"
   ]
  },
  {
   "cell_type": "code",
   "execution_count": 28,
   "metadata": {},
   "outputs": [],
   "source": [
    "res = []\n",
    "for _ in range(1000):\n",
    "    steps = 0\n",
    "    initialize()\n",
    "    while not check_consensus():\n",
    "        update_edge()\n",
    "        steps += 1\n",
    "    res.append(steps)"
   ]
  },
  {
   "cell_type": "code",
   "execution_count": 29,
   "metadata": {},
   "outputs": [
    {
     "data": {
      "image/png": "[encoded data removed]",
      "text/plain": [
       "<Figure size 432x288 with 1 Axes>"
      ]
     },
     "metadata": {
      "needs_background": "light"
     },
     "output_type": "display_data"
    }
   ],
   "source": [
    "plt.hist(res, density=True, bins=100)\n",
    "plt.axvline(np.mean(res), label='mean', c='red')\n",
    "plt.axvline(np.median(res), label='median', c='orange')\n",
    "plt.legend()\n",
    "plt.show()"
   ]
  },
  {
   "cell_type": "code",
   "execution_count": null,
   "metadata": {},
   "outputs": [],
   "source": []
  }
 ],
 "metadata": {
  "interpreter": {
   "hash": "ea4ccc951e668b3195aa8f7cc9a4ade9f2550dae6498a131c5c502cc2f40fdfa"
  },
  "kernelspec": {
   "display_name": "Python 3.8.8 ('base')",
   "language": "python",
   "name": "python3"
  },
  "language_info": {
   "codemirror_mode": {
    "name": "ipython",
    "version": 3
   },
   "file_extension": ".py",
   "mimetype": "text/x-python",
   "name": "python",
   "nbconvert_exporter": "python",
   "pygments_lexer": "ipython3",
   "version": "3.8.8"
  },
  "orig_nbformat": 4
 },
 "nbformat": 4,
 "nbformat_minor": 2
}
