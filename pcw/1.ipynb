{
 "cells": [
  {
   "cell_type": "markdown",
   "metadata": {},
   "source": [
    "## 1 \n",
    "\n",
    "Assumptions: The model assumes that te bus runs 24/7 and has 15 different stops on a loop. It also assumes a constant rate of passengers joining the queue, and that the time between passengers comes from exponential. Destination is uniformimly randonmly chosen and not more than 7 stops away. Time that it takes to embark and desembark is normaly distributed. each bus holds at most 130 passengers. travel time between stops is normally distributed. <br>\n",
    "\n",
    "Variables and rules: <br>\n",
    "for the bus: number of passengers - is updated if a passengers gets on or off <br>\n",
    "             location - is determined by the last stop<br>\n",
    "\n",
    "for the passengers: start and finish - randomly assigned <br>\n",
    "\n",
    "for the stop: size of queue - depends on passengers getting on and of busses <br>\n",
    "\n",
    "Inputs: number of busses <br>\n",
    "\n",
    "output: dataframe of queue-size per stop; dataframe of number of passengers per bus <br>\n",
    "\n",
    "I don't think the model would be very accurate to real life. The variables are fine, they seem to represent well the system, but there are just to many assumptions, and they are not being modeled over a data-set of real-life observations. <br>\n"
   ]
  },
  {
   "cell_type": "code",
   "execution_count": 7,
   "metadata": {},
   "outputs": [
    {
     "name": "stdout",
     "output_type": "stream",
     "text": [
      "sample mean:  0.32692574736379537 \n",
      " theoretical mean:  0.3333333333333333\n",
      "sample var:  0.09564794626850462 \n",
      " theoretical var:  0.1111111111111111\n"
     ]
    }
   ],
   "source": [
    "#2\n",
    "\n",
    "import numpy as np\n",
    "import scipy.stats as sts\n",
    "\n",
    "rate_parameter = 3 # This is known as lambda in the exponential distribution\n",
    "distribution = sts.expon(scale=1/rate_parameter)\n",
    "sample = distribution.rvs(size=1000)\n",
    "\n",
    "print(\"sample mean: \",np.mean(sample),\"\\n\", \"theoretical mean: \", 1/rate_parameter)\n",
    "print(\"sample var: \",np.var(sample), \"\\n\", \"theoretical var: \", 1/rate_parameter**2)"
   ]
  },
  {
   "cell_type": "markdown",
   "metadata": {},
   "source": [
    "## 3 -\n",
    "\n",
    "if we try to fit a curve on this histogram it looks expnential"
   ]
  },
  {
   "cell_type": "code",
   "execution_count": 20,
   "metadata": {},
   "outputs": [
    {
     "data": {
      "image/png": "[encoded data removed]",
      "text/plain": [
       "<Figure size 432x288 with 1 Axes>"
      ]
     },
     "metadata": {
      "needs_background": "light"
     },
     "output_type": "display_data"
    }
   ],
   "source": [
    "import scipy.stats as sts\n",
    "import matplotlib.pyplot as plt\n",
    "\n",
    "rate_parameter = 5 # This is known as lambda in the exponential distribution\n",
    "distribution = sts.expon(scale=1/rate_parameter)\n",
    "sample = distribution.rvs(size=1000)\n",
    "\n",
    "plt.hist(sample)\n",
    "plt.show()"
   ]
  },
  {
   "cell_type": "code",
   "execution_count": null,
   "metadata": {},
   "outputs": [],
   "source": [
    "#mean of roughly 1/5 = 0.2"
   ]
  }
 ],
 "metadata": {
  "interpreter": {
   "hash": "ea4ccc951e668b3195aa8f7cc9a4ade9f2550dae6498a131c5c502cc2f40fdfa"
  },
  "kernelspec": {
   "display_name": "Python 3.8.8 64-bit ('base': conda)",
   "language": "python",
   "name": "python3"
  },
  "language_info": {
   "codemirror_mode": {
    "name": "ipython",
    "version": 3
   },
   "file_extension": ".py",
   "mimetype": "text/x-python",
   "name": "python",
   "nbconvert_exporter": "python",
   "pygments_lexer": "ipython3",
   "version": "3.8.8"
  },
  "orig_nbformat": 4
 },
 "nbformat": 4,
 "nbformat_minor": 2
}
