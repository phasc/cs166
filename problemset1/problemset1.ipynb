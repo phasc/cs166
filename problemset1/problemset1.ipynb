{
 "cells": [
  {
   "cell_type": "markdown",
   "metadata": {},
   "source": [
    "## Problem 1: Design a model"
   ]
  },
  {
   "cell_type": "markdown",
   "metadata": {},
   "source": [
    "I'm choosing to model an ideal gas, to see if the ideal gas law holds up ($ PV = Nk_BT $ )<br>\n",
    "\n",
    "- At which scale do you choose to describe the microscopic components and what are those\n",
    "components? Briefly describe other scales (larger and/or smaller) at which you could have\n",
    "chosen to model the microscopic state and why your chosen scale is the most appropriate.\n",
    "\n",
    "    + The model would descirbe the system on the molecule scale, simulating every molecule of an ideal gas, and tracking their position and momentum. It would also model the compartment that the gas is in. With this I can measure the Preasure (P) by the change in momentum of the particles hitting the walls of the container at every timestep, the Volume, or hypervolume (V) as a function of the lenght of the sides of the container, N is the number of particles, which is a parameter, kB is a constant, and Temperature (T) is a function of the average kinectic energy of the particles that is a funtion of their momentum. \n",
    "\n",
    "    <br> \n",
    "    \n",
    "- What states can the microscopic components take on?\n",
    "\n",
    "    + The states in this case are continous, and they are the different values of the position and momentum. In Statistical Mechanics we call phase space the space of all those states, and it is a function of the configuration space (position) and the momentum space (momentum). This is essential for calculating the entropy of the system.\n",
    "\n",
    "    <br> \n",
    "    \n",
    "- What are the relationships between the components?\n",
    "\n",
    "    + The molecules float arround and bounce into each other with perfectly elastic colisions \n",
    "\n",
    "    <br> \n",
    "    \n",
    "\n",
    "- How do the states of the components change over time? Some of these changes may\n",
    "depend on interactions between the components while other changes may not.\n",
    "\n",
    "    + The major change in the states is that the positions of the particles should spread out over time, no matter where they start, and the overall entropy should increase. \n",
    "\n",
    "    <br>\n",
    "\n",
    "We have actually already done a model for this in the statistical mechanics class, and the addapted version of it is in the next cell\n",
    "    "
   ]
  },
  {
   "cell_type": "code",
   "execution_count": 2,
   "metadata": {},
   "outputs": [
    {
     "name": "stdout",
     "output_type": "stream",
     "text": [
      "(1001, 500, 2)\n",
      "here is first frame, when ready may need to click 'fetch additional output' to watch movie:\n"
     ]
    },
    {
     "data": {
      "image/png": "[encoded data removed]",
      "text/plain": [
       "<Figure size 288x288 with 1 Axes>"
      ]
     },
     "metadata": {
      "needs_background": "light"
     },
     "output_type": "display_data"
    },
    {
     "name": "stderr",
     "output_type": "stream",
     "text": [
      "MovieWriter ffmpeg unavailable; using Pillow instead.\n"
     ]
    },
    {
     "name": "stdout",
     "output_type": "stream",
     "text": [
      "./tmp2ap4tw26.gif\n"
     ]
    },
    {
     "data": {
      "text/html": [
       "\n",
       "                <image style=\"width:200\" src=\"./tmp2ap4tw26.gif\" >\n",
       "                "
      ],
      "text/plain": [
       "<IPython.core.display.HTML object>"
      ]
     },
     "metadata": {},
     "output_type": "display_data"
    }
   ],
   "source": [
    "#addapted for the first assignment for NS162 class\n",
    "\n",
    "import numpy as np\n",
    "from numpy.random import random\n",
    "from numpy import sqrt, sin,cos, pi, array, dot\n",
    "import matplotlib.pyplot as plt\n",
    "\n",
    "import time\n",
    "\n",
    "from matplotlib import animation, rc\n",
    "from IPython.display import HTML\n",
    "import tempfile; tempfile.tempdir='./'\n",
    "\n",
    "\n",
    "# modified from https://github.com/vpython/visual/blob/master/examples/gas.py\n",
    "# converted to 2d, switched to pure numpy functions, visualization using matplotlib instead of vpython\n",
    "\n",
    "# A model of an ideal gas with hard-sphere collisions\n",
    "# Program uses Numeric Python arrays for high speed computations\n",
    "k = 1.4E-23 # Boltzmann constant\n",
    "Matom = 4E-3/6E23 # helium mass in kg\n",
    "\n",
    "def simulate_gas(Natoms=1000, Nframes=500,  T=300, L=1, Ratom=0.003,dt=1E-5, start_half=False, start_uneven_energy=False):\n",
    "# A model of an ideal gas with hard-sphere collisions\n",
    "# Nframes is number of timesteps of dt to simulate\n",
    "# T is temperature in K, L is box size in m, Ratom is atom radius in m, dt is timestep in seconds\n",
    "# Returns poslist_frames -- list of postions of all atoms at each frame\n",
    "#         plist_frames -- list of corresponding momenta of all atoms at each frame\n",
    "#         wall_dp_frames -- sum of absolute value of momenta transfer to all 4 walls during each frame\n",
    "    poslist = []\n",
    "    plist = []\n",
    "    mlist = []\n",
    "    rlist = []\n",
    "\n",
    "    # initialize the positions of the atoms\n",
    "    for i in range(Natoms):\n",
    "        Lmin = 1.1*Ratom\n",
    "        Lmax = L-Lmin\n",
    "        if (start_half): # start all of the atoms on the LHS of the box\n",
    "          x = Lmin+0.5*(Lmax-Lmin)*random()\n",
    "          y = Lmin+(Lmax-Lmin)*random()\n",
    "        else:\n",
    "          x = Lmin+(Lmax-Lmin)*random()\n",
    "          y = Lmin+(Lmax-Lmin)*random()\n",
    "    #   z = Lmin+(Lmax-Lmin)*random()\n",
    "        r = Ratom\n",
    "        mass = Matom*r**3/Ratom**3 # only would matter if we had different atom sizes\n",
    "        pavg = sqrt(2.*mass*1.*k*T) # average kinetic energy p**2/(2mass) = (2/2)kT (2d gas)\n",
    "        phi = 2*pi*random()\n",
    "        if (start_uneven_energy and i>Natoms/2):\n",
    "          px = 0\n",
    "          py = 0\n",
    "        else:\n",
    "          px = pavg*cos(phi)\n",
    "          py = pavg*sin(phi)\n",
    "    #    pz = pavg*cos(theta)\n",
    "        poslist.append((x,y))\n",
    "        plist.append((px,py))\n",
    "        mlist.append(mass)\n",
    "        rlist.append(r)\n",
    "\n",
    "    pos = array(poslist)\n",
    "    p = array(plist)\n",
    "    m = array(mlist)\n",
    "    m.shape = (Natoms,1) # Numeric Python: (1 by Natoms) vs. (Natoms by 1)\n",
    "    radius = array(rlist)\n",
    "\n",
    "    t = 0.0\n",
    "    Nsteps = 0\n",
    "    pos = pos+(p/m)*(dt/2.) # initial half-step\n",
    "\n",
    "    poslist_frames = [pos];\n",
    "    plist_frames = [p];\n",
    "    wall_dp_frames = [0];\n",
    "\n",
    "    while (Nsteps < Nframes):\n",
    "        # Update all positions\n",
    "        pos = pos+(p/m)*dt\n",
    "\n",
    "        r = pos-pos[:,np.newaxis] # all pairs of atom-to-atom vectors\n",
    "        rmag = sqrt(np.sum(r*r,-1)) # atom-to-atom scalar distances\n",
    "        hit = np.less_equal(rmag,radius+radius[:,np.newaxis])-np.identity(Natoms)\n",
    "        hitlist = np.sort(np.nonzero(hit.flatten())).tolist()[0]# i,j encoded as i*Natoms+j    \n",
    "        # If any collisions took place:\n",
    "\n",
    "        hitlist_nodups = hitlist\n",
    "        for ij in hitlist:\n",
    "            i, j = np.divmod(ij,Natoms) # decode atom pair\n",
    "            hitlist_nodups.remove(j*Natoms+i) # remove symmetric j,i pair from list\n",
    "\n",
    "        for ij in hitlist_nodups:\n",
    "            i, j = np.divmod(ij,Natoms) # decode atom pair\n",
    "            #print(i,j, np.sqrt(np.sum((pos[i]-pos[j])**2)))\n",
    "            ptot = p[i]+p[j]\n",
    "            mi = m[i,0]\n",
    "            mj = m[j,0]\n",
    "            vi = p[i]/mi\n",
    "            vj = p[j]/mj\n",
    "            ri = radius[i]\n",
    "            rj = radius[j]\n",
    "            a = np.linalg.norm(vj-vi)**2\n",
    "            if a == 0: continue # exactly same velocities\n",
    "            b = 2*dot(pos[i]-pos[j],vj-vi)\n",
    "            c = np.linalg.norm(pos[i]-pos[j])**2-(ri+rj)**2\n",
    "            d = b**2-4.*a*c\n",
    "            if d < 0: continue # something wrong; ignore this rare case\n",
    "            deltat = (-b+sqrt(d))/(2.*a) # t-deltat is when they made contact\n",
    "            pos[i] = pos[i]-(p[i]/mi)*deltat # back up to contact configuration\n",
    "            pos[j] = pos[j]-(p[j]/mj)*deltat\n",
    "            mtot = mi+mj\n",
    "            pcmi = p[i]-ptot*mi/mtot # transform momenta to cm frame\n",
    "            pcmj = p[j]-ptot*mj/mtot\n",
    "            rrel = (pos[j]-pos[i])/np.linalg.norm(pos[j]-pos[i])\n",
    "            #print(pcmi,pcmj, rrel)\n",
    "            #print(dot(pcmi,rrel))\n",
    "            pcmi = pcmi-2*dot(pcmi,rrel)*rrel # bounce in cm frame\n",
    "            pcmj = pcmj-2*dot(pcmj,rrel)*rrel\n",
    "            #print(pcmi,pcmj)\n",
    "            #print(p[i],p[j],pos[i],pos[j])\n",
    "            p[i] = pcmi+ptot*mi/mtot # transform momenta back to lab frame\n",
    "            p[j] = pcmj+ptot*mj/mtot\n",
    "            pos[i] = pos[i]+(p[i]/mi)*deltat # move forward deltat in time\n",
    "            pos[j] = pos[j]+(p[j]/mj)*deltat\n",
    "            #print(p[i],p[j],pos[i],pos[j])\n",
    "\n",
    "\n",
    "        # Bounce off walls\n",
    "        wall_dp = 0\n",
    "\n",
    "        outside = np.less_equal(pos,Ratom) # walls closest to origin\n",
    "        p1 = p*outside\n",
    "        pnew = p-p1+abs(p1)\n",
    "        wall_dp += np.sum(abs(p - pnew)) #calculate contributions to pressure        \n",
    "        p = pnew # force p component inward\n",
    "\n",
    "        outside = np.greater_equal(pos,L-Ratom) # walls farther from origin\n",
    "        p1 = p*outside\n",
    "        pnew = p-p1-abs(p1) # force p component inward\n",
    "        wall_dp += np.sum(abs(p - pnew)) #calculate contributions to pressure        \n",
    "        p = pnew # force p component inward\n",
    "\n",
    "        poslist_frames.append(pos) # save the positions for this frame\n",
    "        wall_dp_frames.append(wall_dp) # save the momentum transfer to the wall\n",
    "        plist_frames.append(p)\n",
    "\n",
    "        Nsteps = Nsteps+1\n",
    "        t = t+dt\n",
    "\n",
    "    return poslist_frames, plist_frames, wall_dp_frames\n",
    "\n",
    "# matplotlib jupyter animations based on http://louistiao.me/posts/notebooks/embedding-matplotlib-animations-in-jupyter-notebooks/\n",
    "\n",
    "def animate_gas(poslist_frames,Ratom_anim = 0.003, L_anim = 1):\n",
    "    # Generate animation\n",
    "    width = 4 # width of plot in inches\n",
    "\n",
    "    # set-up figure and ax\n",
    "    fig, ax = plt.subplots(figsize=(width,width))\n",
    "    ax.set_xlim((0, 1))\n",
    "    ax.set_ylim((0, 1))\n",
    "    simgraph = ax.scatter([], [])\n",
    "\n",
    "    # convert atom size to figure units\n",
    "    t = ax.transAxes.transform([(0,0), (Ratom_anim,Ratom_anim)])\n",
    "    Ratom_pts = (t[1,1]-t[0,0]) * 72/fig.dpi\n",
    "    s_circ = (Ratom_pts * 2)**2\n",
    "\n",
    "    def init_model():\n",
    "        ax.set_xlim((0, 1))\n",
    "        ax.set_ylim((0, 1))\n",
    "        simgraph = ax.scatter([], [])\n",
    "        return (simgraph,)\n",
    "\n",
    "    def animate_model(i):\n",
    "        ax.clear()\n",
    "        ax.set_xlim((0, 1))\n",
    "        ax.set_ylim((0, 1))\n",
    "        simgraph = ax.scatter(poslist_frames[i][:,0], poslist_frames[i][:,1], s=s_circ)\n",
    "        return (simgraph,)\n",
    "\n",
    "    print(\"here is first frame, when ready may need to click 'fetch additional output' to watch movie:\")\n",
    "    animate_model(1)\n",
    "    plt.show()\n",
    "\n",
    "    # run to generate the html5 video of the positions\n",
    "    # (takes about 30s for 100 frames)\n",
    "    # click 'Fetch additional output to see'\n",
    "    anim = animation.FuncAnimation(fig, animate_model, init_func=init_model,\n",
    "                                  frames=len(poslist_frames), interval=40)\n",
    "    \n",
    "    \n",
    "    fname = tempfile.mktemp('.gif')\n",
    "    print(fname)\n",
    "    anim.save(fname)\n",
    "    time.sleep(0.1) # make sure file is saved\n",
    "    return display(HTML(\"\"\"\n",
    "                <image style=\"width:200\" src=\"{}\" >\n",
    "                \"\"\".format(fname)))\n",
    "\n",
    "\n",
    "# set simulation parameters\n",
    "Natoms = 500\n",
    "Nframes = 1000\n",
    "dt = 1E-5 # s\n",
    "T=300 # Kelvin\n",
    "Ratom = 0.003 # meters -- grossly exagerated\n",
    "L = 1 # meters\n",
    "\n",
    "\n",
    "poslist_frames, plist_frames, wall_dp_frames = simulate_gas(Natoms=Natoms, Nframes=Nframes, Ratom=Ratom, L = L, dt=dt, T=T, start_half=True)\n",
    "animate_gas(poslist_frames[:100], Ratom_anim=Ratom, L_anim=L)"
   ]
  },
  {
   "cell_type": "markdown",
   "metadata": {},
   "source": [
    "## Problem 2: Is the random module random?\n"
   ]
  },
  {
   "cell_type": "code",
   "execution_count": 29,
   "metadata": {},
   "outputs": [
    {
     "data": {
      "image/png": "[encoded data removed]",
      "text/plain": [
       "<Figure size 432x288 with 1 Axes>"
      ]
     },
     "metadata": {
      "needs_background": "light"
     },
     "output_type": "display_data"
    }
   ],
   "source": [
    "import numpy as np\n",
    "import matplotlib.pyplot as plt\n",
    "\n",
    "numbers = np.random.randint(100, size=1000000)\n",
    "\n",
    "plt.hist(numbers, density=True, bins=100)\n",
    "plt.title(\"Random Draws of Integers 0-99\")\n",
    "plt.ylabel(\"Frequency\")\n",
    "plt.xlabel(\"Integer\")\n",
    "plt.show()"
   ]
  },
  {
   "cell_type": "code",
   "execution_count": 30,
   "metadata": {},
   "outputs": [
    {
     "data": {
      "image/png": "[encoded data removed]",
      "text/plain": [
       "<Figure size 432x288 with 1 Axes>"
      ]
     },
     "metadata": {
      "needs_background": "light"
     },
     "output_type": "display_data"
    }
   ],
   "source": [
    "_, c = np.unique(numbers, return_counts = True)\n",
    "plt.hist(c, density= True)\n",
    "plt.title(\"Counts of Random Draws of Integers 0-99\")\n",
    "plt.ylabel(\"Frequency\")\n",
    "plt.xlabel(\"Count\")\n",
    "plt.show()"
   ]
  },
  {
   "cell_type": "markdown",
   "metadata": {},
   "source": [
    "Given that a good random sampler should draw the values from an uniform distribution, I would expect each of the 100 numbers to appear about 1% of of the times, which was what was shown in the first histogram.<br>\n",
    "If we make a histogram of how many times each number was picked, we get something the looks normaly distributed, which agrees to the CLT, since we are sampling 1000000 from another distribution. "
   ]
  },
  {
   "cell_type": "markdown",
   "metadata": {},
   "source": [
    "## Problem 3: Forest fire mean-field approximation\n",
    "\n",
    "Rules: \n",
    "\n",
    "1. p(fire -> empty) = 1\n",
    "2. p(tree -> fire) = (1 -g), if at least 1 neighbor is f. \n",
    "3. p(tree -> fire) = (1 - g)f\n",
    "4. p(empty -> tree) = p"
   ]
  },
  {
   "cell_type": "markdown",
   "metadata": {},
   "source": [
    "1. $∆\\rho_e = \\rho_f − p\\rho_e $\n",
    " \n",
    "    - The space will be empty if it was already empty and a tree did not grow there ($ p\\rho_e $), or if the place was on fire before ($ \\rho_f $). With this, the proportion of the empty spaces changes based on the difference of the proportion of those 2 events, so, $∆\\rho_e = \\rho_f − p\\rho_e $.  \n",
    "    \n",
    "    <br>\n",
    "\n",
    "2. $ ∆\\rho_t = p\\rho_e - \\rho_t(1-g)(f + (1-f)(1 - (1-\\rho_f)^{2d})) $\n",
    "\n",
    "    - For this one we need to think about the trees that spawn in empty spaces, minus the trees that get burned. \n",
    "    - Trees spawning in empty places is given by ($ p\\rho_e $), which is the proportion of empty places times the probability of a tree spawning.\n",
    "    - The trees catching on fire depends on 2 requirements:\n",
    "        + It has to be a tree ($ \\rho_t $)\n",
    "        + It has to not be imune ($ 1-g $)\n",
    "    - Once these requirements are met, there are 2 ways it can catch on fire:\n",
    "        + it is struck by a lightning ($ f $)\n",
    "        + or it not struck by a lightning and it has a neighbour on fire ($ (1-f) p_{nf} $)\n",
    "            - $ p_{nf} $ is the probability that at least 1 neighbour is on fire which is given by $ 1 - (1-p_f)^2d $. This is beacuase the probabilty of 1 individual not being on fire is $ (1-p_f) $ , which has 2d neighbours in d dimentions.\n",
    "\n",
    "    So, putting everything together, we have $ ∆\\rho_t = p\\rho_e - \\rho_t(1-g)(f + (1-f)(1 - (1-\\rho_f)^{2d})) $\n",
    "\n",
    "    <br>\n",
    "\n",
    "3. $ ∆ρ_f = -\\rho_f + \\rho_t(1-g)(f + (1-f)(1 - (1-\\rho_f)^{2d})) $\n",
    "\n",
    "    - we already did the prob of a tree catching on fire above ($ \\rho_t(1-g)(f + (1-f)(1 - (1-\\rho_f)^{2d})) $), so given that every fire dies in 1 turn, we just subtract this proportion by $ p_f $. So, $ ∆ρ_f =  \\rho_t(1-g)(f + (1-f)(1 - (1-\\rho_f)^{2d})) -\\rho_f = ∆ρ_f = -\\rho_f + \\rho_t(1-g)(f + (1-f)(1 - (1-\\rho_f)^{2d}))$\n"
   ]
  },
  {
   "cell_type": "markdown",
   "metadata": {},
   "source": [
    "## Problem 4: Wireworld\n"
   ]
  },
  {
   "cell_type": "code",
   "execution_count": 70,
   "metadata": {},
   "outputs": [],
   "source": [
    "from IPython.display import HTML\n",
    "import tempfile; tempfile.tempdir='./'\n",
    "\n",
    "import time as tm\n",
    "from matplotlib import colors\n",
    "\n",
    "from celluloid import Camera\n"
   ]
  },
  {
   "cell_type": "code",
   "execution_count": 71,
   "metadata": {},
   "outputs": [
    {
     "name": "stderr",
     "output_type": "stream",
     "text": [
      "MovieWriter imagemagick unavailable; using Pillow instead.\n"
     ]
    },
    {
     "name": "stdout",
     "output_type": "stream",
     "text": [
      "./tmpc8ca9jlw.gif\n"
     ]
    },
    {
     "data": {
      "text/html": [
       "\n",
       "            <image style=\"width:200\" src=\"./tmpc8ca9jlw.gif\" >\n",
       "                "
      ],
      "text/plain": [
       "<IPython.core.display.HTML object>"
      ]
     },
     "metadata": {},
     "output_type": "display_data"
    },
    {
     "data": {
      "image/png": "[encoded data removed]",
      "text/plain": [
       "<Figure size 432x288 with 1 Axes>"
      ]
     },
     "metadata": {
      "needs_background": "light"
     },
     "output_type": "display_data"
    }
   ],
   "source": [
    "init_conf = np.array([[0,0,0,0,0,0,0,0,0,0,0,0,0,0,0,0,0,0,0,0,0,0,0,0],\n",
    "                      [0,0,0,0,0,0,0,0,0,0,0,0,0,0,0,0,0,0,0,0,0,0,0,0], \n",
    "                      [0,0,0,3,3,2,1,3,3,3,3,0,0,0,0,0,0,0,0,0,0,0,0,0],\n",
    "                      [0,0,3,0,0,0,0,0,0,0,0,2,1,3,3,3,3,0,0,0,0,0,0,0],\n",
    "                      [0,0,0,3,3,3,3,3,3,3,1,0,0,0,0,0,0,3,0,0,0,0,0,0],\n",
    "                      [0,0,0,0,0,0,0,0,0,0,0,0,0,0,0,0,3,3,3,3,0,0,0,0],\n",
    "                      [0,0,0,0,0,0,0,0,0,0,0,0,0,0,0,0,3,0,0,0,3,3,3,3],\n",
    "                      [0,0,0,0,0,0,0,0,0,0,0,0,0,0,0,0,1,1,1,3,0,0,0,0],\n",
    "                      [0,0,0,3,3,2,1,3,3,3,3,0,0,0,0,0,0,2,0,0,0,0,0,0],\n",
    "                      [0,0,3,0,0,0,0,0,0,0,0,2,1,3,3,3,3,0,0,0,0,0,0,0],\n",
    "                      [0,0,0,3,1,2,3,3,3,3,3,0,0,0,0,0,0,0,0,0,0,0,0,0],\n",
    "                      [0,0,0,0,0,0,0,0,0,0,0,0,0,0,0,0,0,0,0,0,0,0,0,0],  \n",
    "                      [0,0,0,0,0,0,0,0,0,0,0,0,0,0,0,0,0,0,0,0,0,0,0,0]])\n",
    "\n",
    "height = len(init_conf)\n",
    "width = len(init_conf[0])\n",
    "\n",
    "background, head, tail, wire = range(4)\n",
    "\n",
    "def init():\n",
    "    global config, nextConfig\n",
    "\n",
    "    config = init_conf\n",
    "\n",
    "    nextConfig = np.zeros([height, width])\n",
    "\n",
    "def neighborhoodHasHead(config, x, y):\n",
    "    MOORE_OFFSETS = [(1, 1), (1, -1), (1, 0), (-1, 0), (-1, 1), (-1, -1), (0, 1), (0, -1)]\n",
    "\n",
    "    n = 0\n",
    "    for neighbor in MOORE_OFFSETS:\n",
    "        dy, dx = neighbor\n",
    "        try:\n",
    "            if y + dy >= 0 and x + dx >= 0 and config[y+dy][x+dx]==head:\n",
    "                n += 1\n",
    "        except IndexError:\n",
    "            continue\n",
    "\n",
    "    return (n == 1 or n == 2)  \n",
    "\n",
    "def step():\n",
    "    global config, nextConfig\n",
    "\n",
    "    for y in range(height):\n",
    "        for x in range(width):\n",
    "            state = config[y, x]\n",
    "\n",
    "            if state == head:\n",
    "                state = tail\n",
    "\n",
    "            elif state == tail:\n",
    "                state = wire\n",
    "\n",
    "            elif state == wire:\n",
    "                if neighborhoodHasHead(config, x, y):\n",
    "                    state = head\n",
    "\n",
    "            nextConfig[y, x] = state\n",
    "\n",
    "    config, nextConfig = nextConfig, config\n",
    "\n",
    "\n",
    "def animate(n):\n",
    "    fig = plt.figure()\n",
    "    camera = Camera(fig)\n",
    "\n",
    "    plt.xticks(range(0,init_conf.shape[1]))\n",
    "    plt.yticks(range(0,init_conf.shape[0]))\n",
    "    plt.grid(alpha = 0.2)\n",
    "    cm = colors.ListedColormap(['black','b','red','yellow'])\n",
    "\n",
    "    init()\n",
    "    for _ in range(n):\n",
    "        step()\n",
    "        plt.xticks(range(0,init_conf.shape[1]))\n",
    "        plt.yticks(range(0,init_conf.shape[0]))\n",
    "        plt.grid(alpha = 0.2)\n",
    "        plt.imshow(config, cmap = cm, extent = [0, config.shape[1], 0, config.shape[0]], animated = True)\n",
    "        camera.snap()\n",
    "\n",
    "    anim = camera.animate()\n",
    "\n",
    "    fname = tempfile.mktemp('.gif')\n",
    "    print(fname)\n",
    "    anim.save(fname, writer = 'imagemagick')\n",
    "    tm.sleep(0.1) # make sure file is saved\n",
    "    display(HTML(\"\"\"\n",
    "            <image style=\"width:200\" src=\"{}\" >\n",
    "                \"\"\".format(fname)))\n",
    "\n",
    "animate(100)\n"
   ]
  },
  {
   "cell_type": "markdown",
   "metadata": {},
   "source": [
    "For this 4 bit adder, I decided to break it down into substeps. First I'm doing the or, xor, and and gates, and testing them for all inputs"
   ]
  },
  {
   "cell_type": "code",
   "execution_count": 72,
   "metadata": {},
   "outputs": [
    {
     "name": "stderr",
     "output_type": "stream",
     "text": [
      "MovieWriter imagemagick unavailable; using Pillow instead.\n"
     ]
    },
    {
     "name": "stdout",
     "output_type": "stream",
     "text": [
      "./tmp0ysyqwvc.gif\n"
     ]
    },
    {
     "data": {
      "text/html": [
       "\n",
       "            <image style=\"width:200\" src=\"./tmp0ysyqwvc.gif\" >\n",
       "                "
      ],
      "text/plain": [
       "<IPython.core.display.HTML object>"
      ]
     },
     "metadata": {},
     "output_type": "display_data"
    },
    {
     "data": {
      "image/png": "[encoded data removed]",
      "text/plain": [
       "<Figure size 432x288 with 1 Axes>"
      ]
     },
     "metadata": {
      "needs_background": "light"
     },
     "output_type": "display_data"
    }
   ],
   "source": [
    "#or gate\n",
    "init_conf = np.array([[0,0,0,0,0,0,0,0,0,0,0,0,0,0,0,0,0,0,0,0,0,0,0,0],\n",
    "                      [0,0,3,3,2,1,3,3,0,0,0,0,0,0,0,0,0,0,0,0,0,0,0,0],\n",
    "                      [0,3,0,0,0,0,0,0,3,0,0,0,0,0,0,0,0,0,0,0,0,0,0,0], \n",
    "                      [0,3,0,0,0,0,0,0,3,0,0,0,0,0,0,0,0,0,0,0,0,0,0,0],\n",
    "                      [0,3,0,0,0,0,0,0,3,0,0,0,0,0,0,0,0,0,0,0,0,0,0,0], \n",
    "                      [0,3,0,0,0,0,0,0,3,0,0,0,0,0,0,0,0,0,0,0,0,0,0,0],\n",
    "                      [0,3,0,0,0,0,0,0,3,0,0,0,0,0,0,0,0,0,0,0,0,0,0,0], \n",
    "                      [0,3,0,0,0,0,0,0,3,0,0,0,0,0,0,0,0,0,0,0,0,0,0,0],\n",
    "                      [0,0,3,3,1,2,3,3,0,0,0,3,3,0,0,0,0,0,0,0,0,0,0,0], \n",
    "                      [0,0,0,0,0,0,0,0,3,3,3,0,0,3,0,0,0,0,0,0,0,0,0,0],\n",
    "                      [0,0,0,0,0,0,0,0,0,0,0,0,3,3,3,3,3,3,3,3,3,3,3,3], \n",
    "                      [0,0,0,0,0,0,0,0,3,3,3,0,0,3,0,0,0,0,0,0,0,0,0,0],\n",
    "                      [0,0,3,3,1,2,3,3,0,0,0,3,3,0,0,0,0,0,0,0,0,0,0,0],\n",
    "                      [0,3,0,0,0,0,0,0,3,0,0,0,0,0,0,0,0,0,0,0,0,0,0,0], \n",
    "                      [0,3,0,0,0,0,0,0,3,0,0,0,0,0,0,0,0,0,0,0,0,0,0,0],\n",
    "                      [0,2,0,0,0,0,0,0,3,0,0,0,0,0,0,0,0,0,0,0,0,0,0,0], \n",
    "                      [0,1,0,0,0,0,0,0,3,0,0,0,0,0,0,0,0,0,0,0,0,0,0,0],\n",
    "                      [0,3,0,0,0,0,0,0,3,0,0,0,0,0,0,0,0,0,0,0,0,0,0,0], \n",
    "                      [0,3,0,0,0,0,0,0,3,0,0,0,0,0,0,0,0,0,0,0,0,0,0,0],\n",
    "                      [0,0,3,3,3,3,3,3,0,0,0,0,0,0,0,0,0,0,0,0,0,0,0,0], \n",
    "                      [0,0,0,0,0,0,0,0,0,0,0,0,0,0,0,0,0,0,0,0,0,0,0,0]])\n",
    "\n",
    "height = len(init_conf)\n",
    "width = len(init_conf[0])\n",
    "\n",
    "animate(40)\n"
   ]
  },
  {
   "cell_type": "code",
   "execution_count": 73,
   "metadata": {},
   "outputs": [
    {
     "name": "stderr",
     "output_type": "stream",
     "text": [
      "MovieWriter imagemagick unavailable; using Pillow instead.\n"
     ]
    },
    {
     "name": "stdout",
     "output_type": "stream",
     "text": [
      "./tmpp98yl5jl.gif\n"
     ]
    },
    {
     "data": {
      "text/html": [
       "\n",
       "            <image style=\"width:200\" src=\"./tmpp98yl5jl.gif\" >\n",
       "                "
      ],
      "text/plain": [
       "<IPython.core.display.HTML object>"
      ]
     },
     "metadata": {},
     "output_type": "display_data"
    },
    {
     "data": {
      "image/png": "[encoded data removed]",
      "text/plain": [
       "<Figure size 432x288 with 1 Axes>"
      ]
     },
     "metadata": {
      "needs_background": "light"
     },
     "output_type": "display_data"
    }
   ],
   "source": [
    "#xor gate\n",
    "init_conf = np.array([[0,0,0,0,0,0,0,0,0,0,0,0,0,0,0,0,0,0,0,0,0,0,0,0],\n",
    "                      [0,0,3,3,2,1,3,3,0,0,0,0,0,0,0,0,0,0,0,0,0,0,0,0],\n",
    "                      [0,3,0,0,0,0,0,0,3,0,0,0,0,0,0,0,0,0,0,0,0,0,0,0], \n",
    "                      [0,3,0,0,0,0,0,0,3,0,0,0,0,0,0,0,0,0,0,0,0,0,0,0],\n",
    "                      [0,3,0,0,0,0,0,0,3,0,0,0,0,0,0,0,0,0,0,0,0,0,0,0], \n",
    "                      [0,3,0,0,0,0,0,0,3,0,0,0,0,0,0,0,0,0,0,0,0,0,0,0],\n",
    "                      [0,3,0,0,0,0,0,0,3,0,0,0,0,0,0,0,0,0,0,0,0,0,0,0], \n",
    "                      [0,3,0,0,0,0,0,0,3,0,0,0,3,3,0,0,0,0,0,0,0,0,0,0],\n",
    "                      [0,0,3,3,1,2,3,3,0,0,0,3,0,0,3,0,0,0,0,0,0,0,0,0], \n",
    "                      [0,0,0,0,0,0,0,0,3,3,3,0,0,3,3,3,3,0,0,0,0,0,0,0],\n",
    "                      [0,0,0,0,0,0,0,0,0,0,0,0,0,3,0,3,3,3,3,3,3,3,3,3], \n",
    "                      [0,0,0,0,0,0,0,0,3,3,3,0,0,3,3,3,3,0,0,0,0,0,0,0],\n",
    "                      [0,0,3,3,1,2,3,3,0,0,0,3,0,0,3,0,0,0,0,0,0,0,0,0],\n",
    "                      [0,3,0,0,0,0,0,0,3,0,0,0,3,3,0,0,0,0,0,0,0,0,0,0], \n",
    "                      [0,3,0,0,0,0,0,0,3,0,0,0,0,0,0,0,0,0,0,0,0,0,0,0],\n",
    "                      [0,2,0,0,0,0,0,0,3,0,0,0,0,0,0,0,0,0,0,0,0,0,0,0], \n",
    "                      [0,1,0,0,0,0,0,0,3,0,0,0,0,0,0,0,0,0,0,0,0,0,0,0],\n",
    "                      [0,3,0,0,0,0,0,0,3,0,0,0,0,0,0,0,0,0,0,0,0,0,0,0], \n",
    "                      [0,3,0,0,0,0,0,0,3,0,0,0,0,0,0,0,0,0,0,0,0,0,0,0],\n",
    "                      [0,0,3,3,3,3,3,3,0,0,0,0,0,0,0,0,0,0,0,0,0,0,0,0], \n",
    "                      [0,0,0,0,0,0,0,0,0,0,0,0,0,0,0,0,0,0,0,0,0,0,0,0]])\n",
    "\n",
    "height = len(init_conf)\n",
    "width = len(init_conf[0])\n",
    "\n",
    "animate(40)\n"
   ]
  },
  {
   "cell_type": "code",
   "execution_count": 75,
   "metadata": {},
   "outputs": [
    {
     "name": "stderr",
     "output_type": "stream",
     "text": [
      "MovieWriter imagemagick unavailable; using Pillow instead.\n"
     ]
    },
    {
     "name": "stdout",
     "output_type": "stream",
     "text": [
      "./tmpjzn89rr9.gif\n"
     ]
    },
    {
     "data": {
      "text/html": [
       "\n",
       "            <image style=\"width:200\" src=\"./tmpjzn89rr9.gif\" >\n",
       "                "
      ],
      "text/plain": [
       "<IPython.core.display.HTML object>"
      ]
     },
     "metadata": {},
     "output_type": "display_data"
    },
    {
     "data": {
      "image/png": "[encoded data removed]",
      "text/plain": [
       "<Figure size 432x288 with 1 Axes>"
      ]
     },
     "metadata": {
      "needs_background": "light"
     },
     "output_type": "display_data"
    }
   ],
   "source": [
    "#and gate\n",
    "init_conf = np.array([[0,0,0,0,0,0,0,0,0,0,0,0,0,0,0,0,0,0,0,0,0,0,0,0],\n",
    "                      [0,0,3,3,2,1,3,3,0,0,0,0,0,0,0,0,0,0,0,0,0,0,0,0],\n",
    "                      [0,3,0,0,0,0,0,0,3,0,0,0,0,0,0,0,0,0,0,0,0,0,0,0], \n",
    "                      [0,3,0,0,0,0,0,0,3,0,0,0,0,0,0,0,0,0,0,0,0,0,0,0],\n",
    "                      [0,3,0,0,0,0,0,0,3,0,0,0,0,0,0,0,0,0,0,0,0,0,0,0], \n",
    "                      [0,3,0,0,0,0,0,0,3,0,0,0,0,0,0,0,0,0,0,0,0,0,0,0],\n",
    "                      [0,3,0,0,0,0,0,0,3,0,0,0,0,0,0,0,0,0,0,0,0,0,0,0], \n",
    "                      [0,3,0,0,0,0,0,0,3,0,0,0,0,0,0,0,0,0,0,0,0,0,0,0],\n",
    "                      [0,0,3,3,1,2,3,3,0,0,0,0,0,0,0,0,0,0,0,0,0,0,0,0], \n",
    "                      [0,0,0,0,0,0,0,0,3,3,3,3,3,3,3,3,3,0,0,0,0,0,0,0],\n",
    "                      [0,0,0,0,0,0,0,0,0,0,0,0,0,0,0,0,0,3,3,3,0,0,0,0],\n",
    "                      [0,0,0,0,0,0,0,0,0,0,0,0,0,0,3,0,3,0,0,0,3,0,0,0], \n",
    "                      [0,0,0,0,0,0,0,0,3,3,0,0,0,3,3,3,0,0,0,0,3,0,0,0],\n",
    "                      [0,0,3,3,1,2,3,3,0,0,3,0,3,0,3,0,3,0,3,0,3,0,0,0],\n",
    "                      [0,3,0,0,0,0,0,0,3,0,3,0,3,0,0,0,0,3,3,3,0,0,0,0], \n",
    "                      [0,3,0,0,0,0,0,0,3,0,3,0,3,0,0,0,0,0,3,0,3,3,3,3],\n",
    "                      [0,2,0,0,0,0,0,0,3,0,0,3,0,0,0,0,0,0,0,0,0,0,0,0], \n",
    "                      [0,1,0,0,0,0,0,0,3,0,0,0,0,0,0,0,0,0,0,0,0,0,0,0],\n",
    "                      [0,3,0,0,0,0,0,0,3,0,0,0,0,0,0,0,0,0,0,0,0,0,0,0], \n",
    "                      [0,3,0,0,0,0,0,0,3,0,0,0,0,0,0,0,0,0,0,0,0,0,0,0],\n",
    "                      [0,0,3,3,3,3,3,3,0,0,0,0,0,0,0,0,0,0,0,0,0,0,0,0], \n",
    "                      [0,0,0,0,0,0,0,0,0,0,0,0,0,0,0,0,0,0,0,0,0,0,0,0]])\n",
    "\n",
    "height = len(init_conf)\n",
    "width = len(init_conf[0])\n",
    "\n",
    "animate(50)\n"
   ]
  },
  {
   "cell_type": "markdown",
   "metadata": {},
   "source": [
    "Then, I made a half-adder, which is a combination of an XOR and an AND gate. This design was the hardest one to do, because it is very hard to deal with the crossing wires. This took a lot time and a lot of trial and error to come up with this design, but now it works, so I tested it with different outcomes. <br>\n",
    "In the outcome, S is the sum and C is the complement"
   ]
  },
  {
   "cell_type": "code",
   "execution_count": 76,
   "metadata": {},
   "outputs": [
    {
     "name": "stderr",
     "output_type": "stream",
     "text": [
      "MovieWriter imagemagick unavailable; using Pillow instead.\n"
     ]
    },
    {
     "name": "stdout",
     "output_type": "stream",
     "text": [
      "./tmpnzhncvc5.gif\n"
     ]
    },
    {
     "data": {
      "text/html": [
       "\n",
       "            <image style=\"width:200\" src=\"./tmpnzhncvc5.gif\" >\n",
       "                "
      ],
      "text/plain": [
       "<IPython.core.display.HTML object>"
      ]
     },
     "metadata": {},
     "output_type": "display_data"
    },
    {
     "data": {
      "image/png": "[encoded data removed]",
      "text/plain": [
       "<Figure size 432x288 with 1 Axes>"
      ]
     },
     "metadata": {
      "needs_background": "light"
     },
     "output_type": "display_data"
    }
   ],
   "source": [
    "#half-adder 1 + 1 = (S = 0 ; C = 1)\n",
    "\n",
    "init_conf = np.array([[0,0,0,0,0,0,0,0,0,0,0,0,0,0,0,0,0,0,0,0,0,0,0,0],\n",
    "                      [2,1,3,3,3,3,0,0,0,0,0,0,0,0,0,0,0,0,0,0,0,0,0,0],\n",
    "                      [0,0,0,0,0,0,3,0,0,0,0,0,0,0,0,0,0,0,0,0,0,0,0,0],\n",
    "                      [0,0,0,0,0,3,3,3,3,0,0,0,0,0,0,0,0,0,0,0,0,0,0,0],\n",
    "                      [0,0,0,0,0,3,0,0,3,3,0,3,3,3,3,3,3,3,3,3,3,3,3,3],\n",
    "                      [0,0,0,0,0,3,3,3,3,0,3,0,0,0,0,0,0,0,0,0,0,0,0,0],\n",
    "                      [0,0,0,0,0,0,3,0,0,0,0,3,0,0,0,0,0,0,0,0,0,0,0,0],\n",
    "                      [2,1,3,3,3,3,0,0,0,0,3,3,3,0,0,0,0,0,0,0,0,0,0,0],\n",
    "                      [0,0,0,0,0,0,3,0,0,0,0,3,0,0,0,0,0,0,0,0,0,0,0,0],\n",
    "                      [0,0,0,0,0,0,3,0,0,0,3,0,3,3,3,3,3,3,3,3,3,3,3,3],\n",
    "                      [0,0,0,0,0,0,3,0,0,3,0,0,0,0,0,0,0,0,0,0,0,0,0,0],\n",
    "                      [0,0,0,0,0,0,0,3,3,0,0,0,0,0,0,0,0,0,0,0,0,0,0,0],\n",
    "                      [0,0,0,0,0,0,0,0,0,0,0,0,0,0,0,0,0,0,0,0,0,0,0,0]])\n",
    "\n",
    "height = len(init_conf)\n",
    "width = len(init_conf[0])\n",
    "\n",
    "animate(40)"
   ]
  },
  {
   "cell_type": "code",
   "execution_count": 77,
   "metadata": {},
   "outputs": [
    {
     "name": "stderr",
     "output_type": "stream",
     "text": [
      "MovieWriter imagemagick unavailable; using Pillow instead.\n"
     ]
    },
    {
     "name": "stdout",
     "output_type": "stream",
     "text": [
      "./tmphqv23zgj.gif\n"
     ]
    },
    {
     "data": {
      "text/html": [
       "\n",
       "            <image style=\"width:200\" src=\"./tmphqv23zgj.gif\" >\n",
       "                "
      ],
      "text/plain": [
       "<IPython.core.display.HTML object>"
      ]
     },
     "metadata": {},
     "output_type": "display_data"
    },
    {
     "data": {
      "image/png": "[encoded data removed]",
      "text/plain": [
       "<Figure size 432x288 with 1 Axes>"
      ]
     },
     "metadata": {
      "needs_background": "light"
     },
     "output_type": "display_data"
    }
   ],
   "source": [
    "#half-adder 1 + 0 = (S = 1 ; C = 0)\n",
    "\n",
    "init_conf = np.array([[0,0,0,0,0,0,0,0,0,0,0,0,0,0,0,0,0,0,0,0,0,0,0,0],\n",
    "                      [2,1,3,3,3,3,0,0,0,0,0,0,0,0,0,0,0,0,0,0,0,0,0,0],\n",
    "                      [0,0,0,0,0,0,3,0,0,0,0,0,0,0,0,0,0,0,0,0,0,0,0,0],\n",
    "                      [0,0,0,0,0,3,3,3,3,0,0,0,0,0,0,0,0,0,0,0,0,0,0,0],\n",
    "                      [0,0,0,0,0,3,0,0,3,3,0,3,3,3,3,3,3,3,3,3,3,3,3,3],\n",
    "                      [0,0,0,0,0,3,3,3,3,0,3,0,0,0,0,0,0,0,0,0,0,0,0,0],\n",
    "                      [0,0,0,0,0,0,3,0,0,0,0,3,0,0,0,0,0,0,0,0,0,0,0,0],\n",
    "                      [3,3,3,3,3,3,0,0,0,0,3,3,3,0,0,0,0,0,0,0,0,0,0,0],\n",
    "                      [0,0,0,0,0,0,3,0,0,0,0,3,0,0,0,0,0,0,0,0,0,0,0,0],\n",
    "                      [0,0,0,0,0,0,3,0,0,0,3,0,3,3,3,3,3,3,3,3,3,3,3,3],\n",
    "                      [0,0,0,0,0,0,3,0,0,3,0,0,0,0,0,0,0,0,0,0,0,0,0,0],\n",
    "                      [0,0,0,0,0,0,0,3,3,0,0,0,0,0,0,0,0,0,0,0,0,0,0,0],\n",
    "                      [0,0,0,0,0,0,0,0,0,0,0,0,0,0,0,0,0,0,0,0,0,0,0,0]])\n",
    "\n",
    "height = len(init_conf)\n",
    "width = len(init_conf[0])\n",
    "\n",
    "animate(40)"
   ]
  },
  {
   "cell_type": "code",
   "execution_count": 78,
   "metadata": {},
   "outputs": [
    {
     "name": "stderr",
     "output_type": "stream",
     "text": [
      "MovieWriter imagemagick unavailable; using Pillow instead.\n"
     ]
    },
    {
     "name": "stdout",
     "output_type": "stream",
     "text": [
      "./tmpfneeob59.gif\n"
     ]
    },
    {
     "data": {
      "text/html": [
       "\n",
       "            <image style=\"width:200\" src=\"./tmpfneeob59.gif\" >\n",
       "                "
      ],
      "text/plain": [
       "<IPython.core.display.HTML object>"
      ]
     },
     "metadata": {},
     "output_type": "display_data"
    },
    {
     "data": {
      "image/png": "[encoded data removed]",
      "text/plain": [
       "<Figure size 432x288 with 1 Axes>"
      ]
     },
     "metadata": {
      "needs_background": "light"
     },
     "output_type": "display_data"
    }
   ],
   "source": [
    "#half-adder 0 + 1 = (S = 1 ; C = 0)\n",
    "\n",
    "init_conf = np.array([[0,0,0,0,0,0,0,0,0,0,0,0,0,0,0,0,0,0,0,0,0,0,0,0],\n",
    "                      [3,3,3,3,3,3,0,0,0,0,0,0,0,0,0,0,0,0,0,0,0,0,0,0],\n",
    "                      [0,0,0,0,0,0,3,0,0,0,0,0,0,0,0,0,0,0,0,0,0,0,0,0],\n",
    "                      [0,0,0,0,0,3,3,3,3,0,0,0,0,0,0,0,0,0,0,0,0,0,0,0],\n",
    "                      [0,0,0,0,0,3,0,0,3,3,0,3,3,3,3,3,3,3,3,3,3,3,3,3],\n",
    "                      [0,0,0,0,0,3,3,3,3,0,3,0,0,0,0,0,0,0,0,0,0,0,0,0],\n",
    "                      [0,0,0,0,0,0,3,0,0,0,0,3,0,0,0,0,0,0,0,0,0,0,0,0],\n",
    "                      [2,1,3,3,3,3,0,0,0,0,3,3,3,0,0,0,0,0,0,0,0,0,0,0],\n",
    "                      [0,0,0,0,0,0,3,0,0,0,0,3,0,0,0,0,0,0,0,0,0,0,0,0],\n",
    "                      [0,0,0,0,0,0,3,0,0,0,3,0,3,3,3,3,3,3,3,3,3,3,3,3],\n",
    "                      [0,0,0,0,0,0,3,0,0,3,0,0,0,0,0,0,0,0,0,0,0,0,0,0],\n",
    "                      [0,0,0,0,0,0,0,3,3,0,0,0,0,0,0,0,0,0,0,0,0,0,0,0],\n",
    "                      [0,0,0,0,0,0,0,0,0,0,0,0,0,0,0,0,0,0,0,0,0,0,0,0]])\n",
    "\n",
    "height = len(init_conf)\n",
    "width = len(init_conf[0])\n",
    "\n",
    "animate(40)"
   ]
  },
  {
   "cell_type": "markdown",
   "metadata": {},
   "source": [
    "With the half-adder done, I used 2 half-adders connected to an OR gate to simulate a full adder. In phisical circuits this is not the most cost effective way of doing this, but it simplifies the problem a lot"
   ]
  },
  {
   "cell_type": "code",
   "execution_count": 88,
   "metadata": {},
   "outputs": [
    {
     "name": "stderr",
     "output_type": "stream",
     "text": [
      "MovieWriter imagemagick unavailable; using Pillow instead.\n"
     ]
    },
    {
     "name": "stdout",
     "output_type": "stream",
     "text": [
      "./tmplzuz8nwv.gif\n"
     ]
    },
    {
     "data": {
      "text/html": [
       "\n",
       "            <image style=\"width:200\" src=\"./tmplzuz8nwv.gif\" >\n",
       "                "
      ],
      "text/plain": [
       "<IPython.core.display.HTML object>"
      ]
     },
     "metadata": {},
     "output_type": "display_data"
    },
    {
     "data": {
      "image/png": "[encoded data removed]",
      "text/plain": [
       "<Figure size 432x288 with 1 Axes>"
      ]
     },
     "metadata": {
      "needs_background": "light"
     },
     "output_type": "display_data"
    }
   ],
   "source": [
    "#full adder\n",
    "init_conf = np.array([[0,0,0,0,0,0,0,0,0,0,0,0,0,0,0,0,0,0,0,0,0,0,0,0,0,0,0,0,0,0,0,0,0,0,0],\n",
    "                      [2,1,3,3,3,3,3,3,3,3,3,3,3,3,3,3,3,3,0,0,0,0,0,0,0,0,0,0,0,0,0,0,0,0,0],\n",
    "                      [0,0,0,0,0,0,0,0,0,0,0,0,0,0,0,0,0,0,3,0,0,0,0,0,0,0,0,0,0,0,0,0,0,0,0],\n",
    "                      [0,0,0,0,0,0,0,0,0,0,0,0,0,0,0,0,0,3,3,3,3,0,0,0,0,0,0,0,0,0,0,0,0,0,0],\n",
    "                      [2,1,3,3,3,3,0,0,0,0,0,0,0,0,0,0,0,3,0,0,3,3,0,3,3,3,3,3,3,3,3,3,3,3,3],\n",
    "                      [0,0,0,0,0,0,3,0,0,0,0,0,0,0,0,0,0,3,3,3,3,0,3,0,0,0,0,0,0,0,0,0,0,0,0],\n",
    "                      [0,0,0,0,0,3,3,3,3,0,0,0,0,0,0,0,0,0,3,0,0,0,0,3,0,0,0,0,0,0,0,0,0,0,0],\n",
    "                      [0,0,0,0,0,3,0,0,3,3,0,3,3,3,3,3,3,3,0,0,0,0,3,3,3,0,0,0,0,0,0,0,0,0,0],\n",
    "                      [0,0,0,0,0,3,3,3,3,0,3,0,0,0,0,0,0,0,3,0,0,0,0,3,0,0,0,0,3,3,0,0,0,0,0],\n",
    "                      [0,0,0,0,0,0,3,0,0,0,0,3,0,0,0,0,0,0,3,0,0,0,3,0,3,3,3,3,0,0,3,0,0,0,0],\n",
    "                      [3,3,3,3,3,3,0,0,0,0,3,3,3,0,0,0,0,0,3,0,0,3,0,0,0,0,0,0,0,3,3,3,3,3,3],\n",
    "                      [0,0,0,0,0,0,3,0,0,0,0,3,0,0,0,0,0,0,0,3,3,0,0,3,3,3,3,3,0,0,3,0,0,0,0],\n",
    "                      [0,0,0,0,0,0,3,0,0,0,3,0,3,3,3,0,0,0,0,0,0,0,3,0,0,0,0,0,3,3,0,0,0,0,0],\n",
    "                      [0,0,0,0,0,0,3,0,0,3,0,0,0,0,0,3,3,3,3,3,3,3,0,0,0,0,0,0,0,0,0,0,0,0,0],\n",
    "                      [0,0,0,0,0,0,0,3,3,0,0,0,0,0,0,0,0,0,0,0,0,0,0,0,0,0,0,0,0,0,0,0,0,0,0]])\n",
    "\n",
    "height = len(init_conf)\n",
    "width = len(init_conf[0])\n",
    "\n",
    "animate(50)"
   ]
  },
  {
   "cell_type": "markdown",
   "metadata": {},
   "source": [
    "With both the half adder and the full adder we can start adding numbers. It is just a matter of connecting both. I made a 2 bit, 3 bit, and finally a 4 bit to exemplify it better."
   ]
  },
  {
   "cell_type": "code",
   "execution_count": 95,
   "metadata": {},
   "outputs": [
    {
     "name": "stderr",
     "output_type": "stream",
     "text": [
      "MovieWriter imagemagick unavailable; using Pillow instead.\n"
     ]
    },
    {
     "name": "stdout",
     "output_type": "stream",
     "text": [
      "./tmpf6377gjp.gif\n"
     ]
    },
    {
     "data": {
      "text/html": [
       "\n",
       "            <image style=\"width:200\" src=\"./tmpf6377gjp.gif\" >\n",
       "                "
      ],
      "text/plain": [
       "<IPython.core.display.HTML object>"
      ]
     },
     "metadata": {},
     "output_type": "display_data"
    },
    {
     "data": {
      "image/png": "[encoded data removed]",
      "text/plain": [
       "<Figure size 432x288 with 1 Axes>"
      ]
     },
     "metadata": {
      "needs_background": "light"
     },
     "output_type": "display_data"
    }
   ],
   "source": [
    "\"\"\"\n",
    "2 digit binary adder\n",
    "\n",
    "A0A1 + B0B1 = C0C1C2\n",
    "\n",
    "input:      output:\n",
    "B1          C2\n",
    "A1          C1\n",
    "B0          C0\n",
    "A0\n",
    "\n",
    "eg:\n",
    "11 + 01 = 100\n",
    "\n",
    "input:      output:\n",
    "1           0\n",
    "1           0\n",
    "0           1\n",
    "1\n",
    "\n",
    "\"\"\"\n",
    "\n",
    "init_conf = np.array([\n",
    "    \n",
    "[0,0,0,0,0,0,0,0,0,0,0,0,0,0,0,0,0,0,0,0,0,0,0,0,0,0,0,0,0,0,0,0,0,0,0,0,0,0,0,0,0,0,0,0,0,0],\n",
    "[2,1,3,3,3,3,0,0,0,0,0,0,0,0,0,0,0,0,0,0,0,0,0,0,0,0,0,0,0,0,0,0,0,0,0,0,0,0,0,0,0,0,0,0,0,0],\n",
    "[0,0,0,0,0,0,3,0,0,0,0,0,0,0,0,0,0,0,0,0,0,0,0,0,0,0,0,0,0,0,0,0,0,0,0,0,0,0,0,0,0,0,0,0,0,0],\n",
    "[0,0,0,0,0,3,3,3,3,0,0,0,0,0,0,0,0,0,0,0,0,0,0,0,0,0,0,0,0,0,0,0,0,0,0,0,0,0,0,0,0,0,0,0,0,0],\n",
    "[0,0,0,0,0,3,0,0,3,3,0,3,3,3,3,3,3,3,3,3,3,3,3,3,3,3,3,3,3,3,3,3,3,3,3,3,3,3,3,3,3,3,3,3,3,3],\n",
    "[0,0,0,0,0,3,3,3,3,0,3,0,0,0,0,0,0,0,0,0,0,0,0,0,0,0,0,0,0,0,0,0,0,0,0,0,0,0,0,0,0,0,0,0,0,0],\n",
    "[0,0,0,0,0,0,3,0,0,0,0,3,0,0,0,0,0,0,0,0,0,0,0,0,0,0,0,0,0,0,0,0,0,0,0,0,0,0,0,0,0,0,0,0,0,0],\n",
    "[2,1,3,3,3,3,0,0,0,0,3,3,3,0,0,0,0,0,0,0,0,0,0,0,0,0,0,0,0,0,0,0,0,0,0,0,0,0,0,0,0,0,0,0,0,0],\n",
    "[0,0,0,0,0,0,3,0,0,0,0,3,0,0,0,0,0,0,0,0,0,0,0,0,0,0,0,0,0,0,0,0,0,0,0,0,0,0,0,0,0,0,0,0,0,0],\n",
    "[0,0,0,0,0,0,3,0,0,0,3,0,3,3,3,3,3,3,3,3,3,3,3,3,3,3,3,3,3,3,3,3,0,0,0,0,0,0,0,0,0,0,0,0,0,0],\n",
    "[0,0,0,0,0,0,3,0,0,3,0,0,0,0,0,0,0,0,0,0,0,0,0,0,0,0,0,0,0,0,0,0,3,0,0,0,0,0,0,0,0,0,0,0,0,0],\n",
    "[0,0,0,0,0,0,0,3,3,0,0,0,0,0,0,0,0,0,0,0,0,0,0,0,0,0,0,0,0,0,0,3,3,3,3,0,0,0,0,0,0,0,0,0,0,0],\n",
    "[0,0,0,0,0,0,0,0,0,0,0,0,0,0,3,3,3,3,3,3,0,0,0,0,0,0,0,0,0,0,0,3,0,0,3,3,0,3,3,3,3,3,3,3,3,3],\n",
    "[3,3,3,3,3,0,0,0,3,3,3,3,3,3,0,0,0,0,0,0,3,0,0,0,0,0,0,0,0,0,0,3,3,3,3,0,3,0,0,0,0,0,0,0,0,0],\n",
    "[0,0,0,0,0,3,0,3,0,0,0,0,0,0,0,0,0,0,0,3,3,3,3,0,0,0,0,0,0,0,0,0,3,0,0,0,0,3,0,0,0,0,0,0,0,0],\n",
    "[0,0,0,0,0,3,0,3,0,0,0,0,0,0,0,0,0,0,0,3,0,0,3,3,0,3,3,3,3,3,3,3,0,0,0,0,3,3,3,0,0,0,0,0,0,0],\n",
    "[0,0,0,0,0,0,3,0,0,0,0,0,0,0,0,0,0,0,0,3,3,3,3,0,3,0,0,0,0,0,0,0,3,0,0,0,0,3,0,0,0,0,3,3,0,0],\n",
    "[0,0,0,0,0,0,0,0,0,0,0,0,0,0,0,0,0,0,0,0,3,0,0,0,0,3,0,0,0,0,0,0,3,0,0,0,3,0,3,3,3,3,0,0,3,0],\n",
    "[2,1,3,3,3,0,0,0,3,3,3,3,3,3,3,3,3,3,3,3,0,0,0,0,3,3,3,0,0,0,0,0,3,0,0,3,0,0,0,0,0,0,0,3,3,3],\n",
    "[0,0,0,0,0,3,0,3,0,0,0,0,0,0,0,0,0,0,0,0,3,0,0,0,0,3,0,0,0,0,0,0,0,3,3,0,0,3,3,3,3,3,0,0,3,0],\n",
    "[0,0,0,0,0,3,0,3,0,0,0,0,0,0,0,0,0,0,0,0,3,0,0,0,3,0,3,3,3,0,0,0,0,0,0,0,3,0,0,0,0,0,3,3,0,0],\n",
    "[0,0,0,0,0,0,3,0,0,0,0,0,0,0,0,0,0,0,0,0,3,0,0,3,0,0,0,0,0,3,3,3,3,3,3,3,0,0,0,0,0,0,0,0,0,0],\n",
    "[0,0,0,0,0,0,0,0,0,0,0,0,0,0,0,0,0,0,0,0,0,3,3,0,0,0,0,0,0,0,0,0,0,0,0,0,0,0,0,0,0,0,0,0,0,0],    \n",
    "     \n",
    "                      ])\n",
    "\n",
    "height = len(init_conf)\n",
    "width = len(init_conf[0])\n",
    "\n",
    "animate(50)"
   ]
  },
  {
   "cell_type": "code",
   "execution_count": 99,
   "metadata": {},
   "outputs": [
    {
     "name": "stderr",
     "output_type": "stream",
     "text": [
      "MovieWriter imagemagick unavailable; using Pillow instead.\n"
     ]
    },
    {
     "name": "stdout",
     "output_type": "stream",
     "text": [
      "./tmpik5_wp16.gif\n"
     ]
    },
    {
     "data": {
      "text/html": [
       "\n",
       "            <image style=\"width:200\" src=\"./tmpik5_wp16.gif\" >\n",
       "                "
      ],
      "text/plain": [
       "<IPython.core.display.HTML object>"
      ]
     },
     "metadata": {},
     "output_type": "display_data"
    },
    {
     "data": {
      "image/png": "[encoded data removed]",
      "text/plain": [
       "<Figure size 432x288 with 1 Axes>"
      ]
     },
     "metadata": {
      "needs_background": "light"
     },
     "output_type": "display_data"
    }
   ],
   "source": [
    "\"\"\"\n",
    "3 digit binary adder\n",
    "\n",
    "A0A1 + B0B1 = C0C1C2\n",
    "\n",
    "input:      output:\n",
    "B2          C3\n",
    "A2          C2\n",
    "B1          C1\n",
    "A1          C0\n",
    "B0          \n",
    "A0\n",
    "\n",
    "eg:\n",
    "111 + 001 = 1000\n",
    "\n",
    "input:      output:\n",
    "1           0\n",
    "1           0\n",
    "0           0\n",
    "1           1\n",
    "0\n",
    "1\n",
    "\"\"\"\n",
    "\n",
    "init_conf = np.array([\n",
    "    \n",
    "[0,0,0,0,0,0,0,0,0,0,0,0,0,0,0,0,0,0,0,0,0,0,0,0,0,0,0,0,0,0,0,0,0,0,0,0,0,0,0,0,0,0,0,0,0,0,0,0,0,0,0,0,0,0,0,0,0,0,0,0,0,0,0,0,0,0,0,0,0,0,0,0,0,0,0,0,0,0],\n",
    "[2,1,3,3,3,3,0,0,0,0,0,0,0,0,0,0,0,0,0,0,0,0,0,0,0,0,0,0,0,0,0,0,0,0,0,0,0,0,0,0,0,0,0,0,0,0,0,0,0,0,0,0,0,0,0,0,0,0,0,0,0,0,0,0,0,0,0,0,0,0,0,0,0,0,0,0,0,0],\n",
    "[0,0,0,0,0,0,3,0,0,0,0,0,0,0,0,0,0,0,0,0,0,0,0,0,0,0,0,0,0,0,0,0,0,0,0,0,0,0,0,0,0,0,0,0,0,0,0,0,0,0,0,0,0,0,0,0,0,0,0,0,0,0,0,0,0,0,0,0,0,0,0,0,0,0,0,0,0,0],\n",
    "[0,0,0,0,0,3,3,3,3,0,0,0,0,0,0,0,0,0,0,0,0,0,0,0,0,0,0,0,0,0,0,0,0,0,0,0,0,0,0,0,0,0,0,0,0,0,0,0,0,0,0,0,0,0,0,0,0,0,0,0,0,0,0,0,0,0,0,0,0,0,0,0,0,0,0,0,0,0],\n",
    "[0,0,0,0,0,3,0,0,3,3,0,3,3,3,3,3,3,3,3,3,3,3,3,3,3,3,3,3,3,3,3,3,3,3,3,3,3,3,3,3,3,3,3,3,3,3,3,3,3,3,3,3,3,3,3,3,3,3,3,3,3,3,3,3,3,3,3,3,3,3,3,3,3,3,3,3,3,3],\n",
    "[0,0,0,0,0,3,3,3,3,0,3,0,0,0,0,0,0,0,0,0,0,0,0,0,0,0,0,0,0,0,0,0,0,0,0,0,0,0,0,0,0,0,0,0,0,0,0,0,0,0,0,0,0,0,0,0,0,0,0,0,0,0,0,0,0,0,0,0,0,0,0,0,0,0,0,0,0,0],\n",
    "[0,0,0,0,0,0,3,0,0,0,0,3,0,0,0,0,0,0,0,0,0,0,0,0,0,0,0,0,0,0,0,0,0,0,0,0,0,0,0,0,0,0,0,0,0,0,0,0,0,0,0,0,0,0,0,0,0,0,0,0,0,0,0,0,0,0,0,0,0,0,0,0,0,0,0,0,0,0],\n",
    "[2,1,3,3,3,3,0,0,0,0,3,3,3,0,0,0,0,0,0,0,0,0,0,0,0,0,0,0,0,0,0,0,0,0,0,0,0,0,0,0,0,0,0,0,0,0,0,0,0,0,0,0,0,0,0,0,0,0,0,0,0,0,0,0,0,0,0,0,0,0,0,0,0,0,0,0,0,0],\n",
    "[0,0,0,0,0,0,3,0,0,0,0,3,0,0,0,0,0,0,0,0,0,0,0,0,0,0,0,0,0,0,0,0,0,0,0,0,0,0,0,0,0,0,0,0,0,0,0,0,0,0,0,0,0,0,0,0,0,0,0,0,0,0,0,0,0,0,0,0,0,0,0,0,0,0,0,0,0,0],\n",
    "[0,0,0,0,0,0,3,0,0,0,3,0,3,3,3,3,3,3,3,3,3,3,3,3,3,3,3,3,3,3,3,3,0,0,0,0,0,0,0,0,0,0,0,0,0,0,0,0,0,0,0,0,0,0,0,0,0,0,0,0,0,0,0,0,0,0,0,0,0,0,0,0,0,0,0,0,0,0],\n",
    "[0,0,0,0,0,0,3,0,0,3,0,0,0,0,0,0,0,0,0,0,0,0,0,0,0,0,0,0,0,0,0,0,3,0,0,0,0,0,0,0,0,0,0,0,0,0,0,0,0,0,0,0,0,0,0,0,0,0,0,0,0,0,0,0,0,0,0,0,0,0,0,0,0,0,0,0,0,0],\n",
    "[0,0,0,0,0,0,0,3,3,0,0,0,0,0,0,0,0,0,0,0,0,0,0,0,0,0,0,0,0,0,0,3,3,3,3,0,0,0,0,0,0,0,0,0,0,0,0,0,0,0,0,0,0,0,0,0,0,0,0,0,0,0,0,0,0,0,0,0,0,0,0,0,0,0,0,0,0,0],\n",
    "[0,0,0,0,0,0,0,0,0,0,0,0,0,0,3,3,3,3,3,3,0,0,0,0,0,0,0,0,0,0,0,3,0,0,3,3,0,3,3,3,3,3,3,3,3,3,3,3,3,3,3,3,3,3,3,3,3,3,3,3,3,3,3,3,3,3,3,3,3,3,3,3,3,3,3,3,3,3],\n",
    "[3,3,3,3,3,0,0,0,3,3,3,3,3,3,0,0,0,0,0,0,3,0,0,0,0,0,0,0,0,0,0,3,3,3,3,0,3,0,0,0,0,0,0,0,0,0,0,0,0,0,0,0,0,0,0,0,0,0,0,0,0,0,0,0,0,0,0,0,0,0,0,0,0,0,0,0,0,0],\n",
    "[0,0,0,0,0,3,0,3,0,0,0,0,0,0,0,0,0,0,0,3,3,3,3,0,0,0,0,0,0,0,0,0,3,0,0,0,0,3,0,0,0,0,0,0,0,0,0,0,0,0,0,0,0,0,0,0,0,0,0,0,0,0,0,0,0,0,0,0,0,0,0,0,0,0,0,0,0,0],\n",
    "[0,0,0,0,0,3,0,3,0,0,0,0,0,0,0,0,0,0,0,3,0,0,3,3,0,3,3,3,3,3,3,3,0,0,0,0,3,3,3,0,0,0,0,0,0,0,0,0,0,0,0,0,0,0,0,0,0,0,0,0,0,0,0,0,0,0,0,0,0,0,0,0,0,0,0,0,0,0],\n",
    "[0,0,0,0,0,0,3,0,0,0,0,0,0,0,0,0,0,0,0,3,3,3,3,0,3,0,0,0,0,0,0,0,3,0,0,0,0,3,0,0,0,0,3,3,0,0,0,0,0,0,0,0,0,0,0,0,0,0,0,0,0,0,0,0,0,0,0,0,0,0,0,0,0,0,0,0,0,0],\n",
    "[0,0,0,0,0,0,0,0,0,0,0,0,0,0,0,0,0,0,0,0,3,0,0,0,0,3,0,0,0,0,0,0,3,0,0,0,3,0,3,3,3,3,0,0,3,0,0,0,0,0,0,0,0,0,0,0,0,0,0,0,0,0,0,0,0,0,0,0,0,0,0,0,0,0,0,0,0,0],\n",
    "[2,1,3,3,3,0,0,0,3,3,3,3,3,3,3,3,3,3,3,3,0,0,0,0,3,3,3,0,0,0,0,0,3,0,0,3,0,0,0,0,0,0,0,3,3,3,3,3,3,3,3,3,3,3,3,3,3,3,3,3,3,0,0,0,0,0,0,0,0,0,0,0,0,0,0,0,0,0],\n",
    "[0,0,0,0,0,3,0,3,0,0,0,0,0,0,0,0,0,0,0,0,3,0,0,0,0,3,0,0,0,0,0,0,0,3,3,0,0,3,3,3,3,3,0,0,3,0,0,0,0,0,0,0,0,0,0,0,0,0,0,0,0,3,0,0,0,0,0,0,0,0,0,0,0,0,0,0,0,0],\n",
    "[0,0,0,0,0,3,0,3,0,0,0,0,0,0,0,0,0,0,0,0,3,0,0,0,3,0,3,3,3,0,0,0,0,0,0,0,3,0,0,0,0,0,3,3,0,0,0,0,0,0,0,0,0,0,0,0,0,0,0,0,3,3,3,3,0,0,0,0,0,0,0,0,0,0,0,0,0,0],\n",
    "[0,0,0,0,0,0,3,0,0,0,0,0,0,0,0,0,0,0,0,0,3,0,0,3,0,0,0,0,0,3,3,3,3,3,3,3,0,0,0,0,0,0,0,0,0,0,3,3,3,0,0,0,0,0,0,0,0,0,0,0,3,0,0,3,3,0,3,3,3,3,3,3,3,3,3,3,3,3],\n",
    "[0,0,0,0,0,0,0,0,0,0,0,0,0,0,0,0,0,0,0,0,0,3,3,0,0,0,0,0,0,0,0,0,0,0,0,0,0,0,0,0,0,0,0,0,0,3,0,0,0,3,0,0,0,0,0,0,0,0,0,0,3,3,3,3,0,3,0,0,0,0,0,0,0,0,0,0,0,0],\n",
    "[0,0,0,0,0,0,0,0,0,0,0,0,0,0,0,0,0,0,0,0,0,0,0,0,0,0,0,0,0,0,0,0,0,0,0,0,0,0,0,0,0,0,0,0,3,0,0,0,3,3,3,3,0,0,0,0,0,0,0,0,0,3,0,0,0,0,3,0,0,0,0,0,0,0,0,0,0,0],\n",
    "[3,3,3,0,0,0,3,3,3,3,3,3,3,3,3,3,3,3,3,3,3,3,3,3,3,3,3,3,3,3,3,3,3,3,3,3,3,3,3,3,3,3,3,3,0,0,0,0,3,0,0,3,3,0,3,3,3,3,3,3,3,0,0,0,0,3,3,3,0,0,0,0,0,0,0,0,0,0],\n",
    "[0,0,0,3,0,3,0,0,0,0,0,0,0,0,0,0,0,0,0,0,0,0,0,0,0,0,0,0,0,0,0,0,0,0,0,0,0,0,0,0,0,0,0,0,0,0,0,0,3,3,3,3,0,3,0,0,0,0,0,0,0,3,0,0,0,0,3,0,0,0,0,3,3,0,0,0,0,0],\n",
    "[0,0,0,3,0,3,0,0,3,0,0,0,0,0,0,0,0,0,0,0,0,0,0,0,0,0,0,0,0,0,0,0,0,0,0,0,0,0,0,0,0,0,0,0,0,0,0,0,0,3,0,0,0,0,3,0,0,0,0,0,0,3,0,0,0,3,0,3,3,3,3,0,0,3,0,0,0,0],\n",
    "[0,0,0,3,0,3,0,3,0,3,0,0,0,0,0,0,0,0,0,0,0,0,0,0,0,0,0,0,0,0,0,0,0,0,0,0,0,0,0,0,0,0,0,0,0,0,3,3,3,0,0,0,0,3,3,3,0,0,0,0,0,3,0,0,3,0,0,0,0,0,0,0,3,3,3,3,3,3],\n",
    "[0,0,0,0,3,0,0,3,0,3,0,0,0,0,0,0,0,0,0,0,0,0,0,0,0,0,0,0,0,0,0,0,0,0,0,0,0,0,0,0,0,0,0,0,0,3,0,0,0,3,0,0,0,0,3,0,0,0,0,0,0,0,3,3,0,0,3,3,3,3,3,0,0,3,0,0,0,0],\n",
    "[0,0,0,0,0,0,0,3,0,3,0,0,0,0,0,0,0,0,0,0,0,0,0,0,0,0,0,0,0,0,0,0,0,0,0,0,0,0,0,0,0,0,0,0,3,0,0,0,0,3,0,0,0,3,0,3,3,3,0,0,0,0,0,0,0,3,0,0,0,0,0,3,3,0,0,0,0,0],\n",
    "[2,1,3,3,3,3,3,0,0,0,3,3,3,3,3,3,3,3,3,3,3,3,3,3,3,3,3,3,3,3,3,3,3,3,3,3,3,3,3,3,3,3,3,3,0,0,0,0,0,3,0,0,3,0,0,0,0,0,3,3,3,3,3,3,3,0,0,0,0,0,0,0,0,0,0,0,0,0],\n",
    "[0,0,0,0,0,0,0,0,0,0,0,0,0,0,0,0,0,0,0,0,0,0,0,0,0,0,0,0,0,0,0,0,0,0,0,0,0,0,0,0,0,0,0,0,0,0,0,0,0,0,3,3,0,0,0,0,0,0,0,0,0,0,0,0,0,0,0,0,0,0,0,0,0,0,0,0,0,0]    \n",
    "     \n",
    "                      ])\n",
    "\n",
    "height = len(init_conf)\n",
    "width = len(init_conf[0])\n",
    "\n",
    "animate(100)"
   ]
  },
  {
   "cell_type": "code",
   "execution_count": 100,
   "metadata": {},
   "outputs": [
    {
     "name": "stderr",
     "output_type": "stream",
     "text": [
      "MovieWriter imagemagick unavailable; using Pillow instead.\n"
     ]
    },
    {
     "name": "stdout",
     "output_type": "stream",
     "text": [
      "./tmpmsjq_7ke.gif\n"
     ]
    },
    {
     "data": {
      "text/html": [
       "\n",
       "            <image style=\"width:200\" src=\"./tmpmsjq_7ke.gif\" >\n",
       "                "
      ],
      "text/plain": [
       "<IPython.core.display.HTML object>"
      ]
     },
     "metadata": {},
     "output_type": "display_data"
    },
    {
     "data": {
      "image/png": "[encoded data removed]",
      "text/plain": [
       "<Figure size 432x288 with 1 Axes>"
      ]
     },
     "metadata": {
      "needs_background": "light"
     },
     "output_type": "display_data"
    }
   ],
   "source": [
    "\"\"\"\n",
    "4 digit binary adder\n",
    "\n",
    "A0A1 + B0B1 = C0C1C2\n",
    "\n",
    "input:      output:\n",
    "B3\n",
    "A3          C4\n",
    "B2          C3\n",
    "A2          C2\n",
    "B1          C1\n",
    "A1          C0\n",
    "B0          \n",
    "A0\n",
    "\n",
    "eg:\n",
    "1111 + 0001 = 1000\n",
    "\n",
    "input:      output:\n",
    "1           0\n",
    "1           0\n",
    "0           0\n",
    "1           0\n",
    "0           1\n",
    "1\n",
    "0\n",
    "1\n",
    "\"\"\"\n",
    "\n",
    "init_conf = np.array([\n",
    "    \n",
    "[0,0,0,0,0,0,0,0,0,0,0,0,0,0,0,0,0,0,0,0,0,0,0,0,0,0,0,0,0,0,0,0,0,0,0,0,0,0,0,0,0,0,0,0,0,0,0,0,0,0,0,0,0,0,0,0,0,0,0,0,0,0,0,0,0,0,0,0,0,0,0,0,0,0,0,0,0,0,0,0,0,0,0,0,0,0,0,0,0,0,0,0,0,0,0,0,0,0,0,0,0,0,0,0,0,0,0,0,0],\n",
    "[2,1,3,3,3,3,0,0,0,0,0,0,0,0,0,0,0,0,0,0,0,0,0,0,0,0,0,0,0,0,0,0,0,0,0,0,0,0,0,0,0,0,0,0,0,0,0,0,0,0,0,0,0,0,0,0,0,0,0,0,0,0,0,0,0,0,0,0,0,0,0,0,0,0,0,0,0,0,0,0,0,0,0,0,0,0,0,0,0,0,0,0,0,0,0,0,0,0,0,0,0,0,0,0,0,0,0,0,0],\n",
    "[0,0,0,0,0,0,3,0,0,0,0,0,0,0,0,0,0,0,0,0,0,0,0,0,0,0,0,0,0,0,0,0,0,0,0,0,0,0,0,0,0,0,0,0,0,0,0,0,0,0,0,0,0,0,0,0,0,0,0,0,0,0,0,0,0,0,0,0,0,0,0,0,0,0,0,0,0,0,0,0,0,0,0,0,0,0,0,0,0,0,0,0,0,0,0,0,0,0,0,0,0,0,0,0,0,0,0,0,0],\n",
    "[0,0,0,0,0,3,3,3,3,0,0,0,0,0,0,0,0,0,0,0,0,0,0,0,0,0,0,0,0,0,0,0,0,0,0,0,0,0,0,0,0,0,0,0,0,0,0,0,0,0,0,0,0,0,0,0,0,0,0,0,0,0,0,0,0,0,0,0,0,0,0,0,0,0,0,0,0,0,0,0,0,0,0,0,0,0,0,0,0,0,0,0,0,0,0,0,0,0,0,0,0,0,0,0,0,0,0,0,0],\n",
    "[0,0,0,0,0,3,0,0,3,3,0,3,3,3,3,3,3,3,3,3,3,3,3,3,3,3,3,3,3,3,3,3,3,3,3,3,3,3,3,3,3,3,3,3,3,3,3,3,3,3,3,3,3,3,3,3,3,3,3,3,3,3,3,3,3,3,3,3,3,3,3,3,3,3,3,3,3,3,3,3,3,3,3,3,3,3,3,3,3,3,3,3,3,3,3,3,3,3,3,3,3,3,3,3,3,3,3,3,3],\n",
    "[0,0,0,0,0,3,3,3,3,0,3,0,0,0,0,0,0,0,0,0,0,0,0,0,0,0,0,0,0,0,0,0,0,0,0,0,0,0,0,0,0,0,0,0,0,0,0,0,0,0,0,0,0,0,0,0,0,0,0,0,0,0,0,0,0,0,0,0,0,0,0,0,0,0,0,0,0,0,0,0,0,0,0,0,0,0,0,0,0,0,0,0,0,0,0,0,0,0,0,0,0,0,0,0,0,0,0,0,0],\n",
    "[0,0,0,0,0,0,3,0,0,0,0,3,0,0,0,0,0,0,0,0,0,0,0,0,0,0,0,0,0,0,0,0,0,0,0,0,0,0,0,0,0,0,0,0,0,0,0,0,0,0,0,0,0,0,0,0,0,0,0,0,0,0,0,0,0,0,0,0,0,0,0,0,0,0,0,0,0,0,0,0,0,0,0,0,0,0,0,0,0,0,0,0,0,0,0,0,0,0,0,0,0,0,0,0,0,0,0,0,0],\n",
    "[2,1,3,3,3,3,0,0,0,0,3,3,3,0,0,0,0,0,0,0,0,0,0,0,0,0,0,0,0,0,0,0,0,0,0,0,0,0,0,0,0,0,0,0,0,0,0,0,0,0,0,0,0,0,0,0,0,0,0,0,0,0,0,0,0,0,0,0,0,0,0,0,0,0,0,0,0,0,0,0,0,0,0,0,0,0,0,0,0,0,0,0,0,0,0,0,0,0,0,0,0,0,0,0,0,0,0,0,0],\n",
    "[0,0,0,0,0,0,3,0,0,0,0,3,0,0,0,0,0,0,0,0,0,0,0,0,0,0,0,0,0,0,0,0,0,0,0,0,0,0,0,0,0,0,0,0,0,0,0,0,0,0,0,0,0,0,0,0,0,0,0,0,0,0,0,0,0,0,0,0,0,0,0,0,0,0,0,0,0,0,0,0,0,0,0,0,0,0,0,0,0,0,0,0,0,0,0,0,0,0,0,0,0,0,0,0,0,0,0,0,0],\n",
    "[0,0,0,0,0,0,3,0,0,0,3,0,3,3,3,3,3,3,3,3,3,3,3,3,3,3,3,3,3,3,3,3,0,0,0,0,0,0,0,0,0,0,0,0,0,0,0,0,0,0,0,0,0,0,0,0,0,0,0,0,0,0,0,0,0,0,0,0,0,0,0,0,0,0,0,0,0,0,0,0,0,0,0,0,0,0,0,0,0,0,0,0,0,0,0,0,0,0,0,0,0,0,0,0,0,0,0,0,0],\n",
    "[0,0,0,0,0,0,3,0,0,3,0,0,0,0,0,0,0,0,0,0,0,0,0,0,0,0,0,0,0,0,0,0,3,0,0,0,0,0,0,0,0,0,0,0,0,0,0,0,0,0,0,0,0,0,0,0,0,0,0,0,0,0,0,0,0,0,0,0,0,0,0,0,0,0,0,0,0,0,0,0,0,0,0,0,0,0,0,0,0,0,0,0,0,0,0,0,0,0,0,0,0,0,0,0,0,0,0,0,0],\n",
    "[0,0,0,0,0,0,0,3,3,0,0,0,0,0,0,0,0,0,0,0,0,0,0,0,0,0,0,0,0,0,0,3,3,3,3,0,0,0,0,0,0,0,0,0,0,0,0,0,0,0,0,0,0,0,0,0,0,0,0,0,0,0,0,0,0,0,0,0,0,0,0,0,0,0,0,0,0,0,0,0,0,0,0,0,0,0,0,0,0,0,0,0,0,0,0,0,0,0,0,0,0,0,0,0,0,0,0,0,0],\n",
    "[0,0,0,0,0,0,0,0,0,0,0,0,0,0,3,3,3,3,3,3,0,0,0,0,0,0,0,0,0,0,0,3,0,0,3,3,0,3,3,3,3,3,3,3,3,3,3,3,3,3,3,3,3,3,3,3,3,3,3,3,3,3,3,3,3,3,3,3,3,3,3,3,3,3,3,3,3,3,3,3,3,3,3,3,3,3,3,3,3,3,3,3,3,3,3,3,3,3,3,3,3,3,3,3,3,3,3,3,3],\n",
    "[3,3,3,3,3,0,0,0,3,3,3,3,3,3,0,0,0,0,0,0,3,0,0,0,0,0,0,0,0,0,0,3,3,3,3,0,3,0,0,0,0,0,0,0,0,0,0,0,0,0,0,0,0,0,0,0,0,0,0,0,0,0,0,0,0,0,0,0,0,0,0,0,0,0,0,0,0,0,0,0,0,0,0,0,0,0,0,0,0,0,0,0,0,0,0,0,0,0,0,0,0,0,0,0,0,0,0,0,0],\n",
    "[0,0,0,0,0,3,0,3,0,0,0,0,0,0,0,0,0,0,0,3,3,3,3,0,0,0,0,0,0,0,0,0,3,0,0,0,0,3,0,0,0,0,0,0,0,0,0,0,0,0,0,0,0,0,0,0,0,0,0,0,0,0,0,0,0,0,0,0,0,0,0,0,0,0,0,0,0,0,0,0,0,0,0,0,0,0,0,0,0,0,0,0,0,0,0,0,0,0,0,0,0,0,0,0,0,0,0,0,0],\n",
    "[0,0,0,0,0,3,0,3,0,0,0,0,0,0,0,0,0,0,0,3,0,0,3,3,0,3,3,3,3,3,3,3,0,0,0,0,3,3,3,0,0,0,0,0,0,0,0,0,0,0,0,0,0,0,0,0,0,0,0,0,0,0,0,0,0,0,0,0,0,0,0,0,0,0,0,0,0,0,0,0,0,0,0,0,0,0,0,0,0,0,0,0,0,0,0,0,0,0,0,0,0,0,0,0,0,0,0,0,0],\n",
    "[0,0,0,0,0,0,3,0,0,0,0,0,0,0,0,0,0,0,0,3,3,3,3,0,3,0,0,0,0,0,0,0,3,0,0,0,0,3,0,0,0,0,3,3,0,0,0,0,0,0,0,0,0,0,0,0,0,0,0,0,0,0,0,0,0,0,0,0,0,0,0,0,0,0,0,0,0,0,0,0,0,0,0,0,0,0,0,0,0,0,0,0,0,0,0,0,0,0,0,0,0,0,0,0,0,0,0,0,0],\n",
    "[0,0,0,0,0,0,0,0,0,0,0,0,0,0,0,0,0,0,0,0,3,0,0,0,0,3,0,0,0,0,0,0,3,0,0,0,3,0,3,3,3,3,0,0,3,0,0,0,0,0,0,0,0,0,0,0,0,0,0,0,0,0,0,0,0,0,0,0,0,0,0,0,0,0,0,0,0,0,0,0,0,0,0,0,0,0,0,0,0,0,0,0,0,0,0,0,0,0,0,0,0,0,0,0,0,0,0,0,0],\n",
    "[2,1,3,3,3,0,0,0,3,3,3,3,3,3,3,3,3,3,3,3,0,0,0,0,3,3,3,0,0,0,0,0,3,0,0,3,0,0,0,0,0,0,0,3,3,3,3,3,3,3,3,3,3,3,3,3,3,3,3,3,3,0,0,0,0,0,0,0,0,0,0,0,0,0,0,0,0,0,0,0,0,0,0,0,0,0,0,0,0,0,0,0,0,0,0,0,0,0,0,0,0,0,0,0,0,0,0,0,0],\n",
    "[0,0,0,0,0,3,0,3,0,0,0,0,0,0,0,0,0,0,0,0,3,0,0,0,0,3,0,0,0,0,0,0,0,3,3,0,0,3,3,3,3,3,0,0,3,0,0,0,0,0,0,0,0,0,0,0,0,0,0,0,0,3,0,0,0,0,0,0,0,0,0,0,0,0,0,0,0,0,0,0,0,0,0,0,0,0,0,0,0,0,0,0,0,0,0,0,0,0,0,0,0,0,0,0,0,0,0,0,0],\n",
    "[0,0,0,0,0,3,0,3,0,0,0,0,0,0,0,0,0,0,0,0,3,0,0,0,3,0,3,3,3,0,0,0,0,0,0,0,3,0,0,0,0,0,3,3,0,0,0,0,0,0,0,0,0,0,0,0,0,0,0,0,3,3,3,3,0,0,0,0,0,0,0,0,0,0,0,0,0,0,0,0,0,0,0,0,0,0,0,0,0,0,0,0,0,0,0,0,0,0,0,0,0,0,0,0,0,0,0,0,0],\n",
    "[0,0,0,0,0,0,3,0,0,0,0,0,0,0,0,0,0,0,0,0,3,0,0,3,0,0,0,0,0,3,3,3,3,3,3,3,0,0,0,0,0,0,0,0,0,0,3,3,3,0,0,0,0,0,0,0,0,0,0,0,3,0,0,3,3,0,3,3,3,3,3,3,3,3,3,3,3,3,3,3,3,3,3,3,3,3,3,3,3,3,3,3,3,3,3,3,3,3,3,3,3,3,3,3,3,3,3,3,3],\n",
    "[0,0,0,0,0,0,0,0,0,0,0,0,0,0,0,0,0,0,0,0,0,3,3,0,0,0,0,0,0,0,0,0,0,0,0,0,0,0,0,0,0,0,0,0,0,3,0,0,0,3,0,0,0,0,0,0,0,0,0,0,3,3,3,3,0,3,0,0,0,0,0,0,0,0,0,0,0,0,0,0,0,0,0,0,0,0,0,0,0,0,0,0,0,0,0,0,0,0,0,0,0,0,0,0,0,0,0,0,0],\n",
    "[0,0,0,0,0,0,0,0,0,0,0,0,0,0,0,0,0,0,0,0,0,0,0,0,0,0,0,0,0,0,0,0,0,0,0,0,0,0,0,0,0,0,0,0,3,0,0,0,3,3,3,3,0,0,0,0,0,0,0,0,0,3,0,0,0,0,3,0,0,0,0,0,0,0,0,0,0,0,0,0,0,0,0,0,0,0,0,0,0,0,0,0,0,0,0,0,0,0,0,0,0,0,0,0,0,0,0,0,0],\n",
    "[3,3,3,0,0,0,3,3,3,3,3,3,3,3,3,3,3,3,3,3,3,3,3,3,3,3,3,3,3,3,3,3,3,3,3,3,3,3,3,3,3,3,3,3,0,0,0,0,3,0,0,3,3,0,3,3,3,3,3,3,3,0,0,0,0,3,3,3,0,0,0,0,0,0,0,0,0,0,0,0,0,0,0,0,0,0,0,0,0,0,0,0,0,0,0,0,0,0,0,0,0,0,0,0,0,0,0,0,0],\n",
    "[0,0,0,3,0,3,0,0,0,0,0,0,0,0,0,0,0,0,0,0,0,0,0,0,0,0,0,0,0,0,0,0,0,0,0,0,0,0,0,0,0,0,0,0,0,0,0,0,3,3,3,3,0,3,0,0,0,0,0,0,0,3,0,0,0,0,3,0,0,0,0,3,3,0,0,0,0,0,0,0,0,0,0,0,0,0,0,0,0,0,0,0,0,0,0,0,0,0,0,0,0,0,0,0,0,0,0,0,0],\n",
    "[0,0,0,3,0,3,0,0,3,0,0,0,0,0,0,0,0,0,0,0,0,0,0,0,0,0,0,0,0,0,0,0,0,0,0,0,0,0,0,0,0,0,0,0,0,0,0,0,0,3,0,0,0,0,3,0,0,0,0,0,0,3,0,0,0,3,0,3,3,3,3,0,0,3,0,0,0,0,0,0,0,0,0,0,0,0,0,0,0,0,0,0,0,0,0,0,0,0,0,0,0,0,0,0,0,0,0,0,0],\n",
    "[0,0,0,3,0,3,0,3,0,3,0,0,0,0,0,0,0,0,0,0,0,0,0,0,0,0,0,0,0,0,0,0,0,0,0,0,0,0,0,0,0,0,0,0,0,0,3,3,3,0,0,0,0,3,3,3,0,0,0,0,0,3,0,0,3,0,0,0,0,0,0,0,3,3,3,3,3,3,3,3,3,3,3,3,3,3,3,3,3,3,3,3,0,0,0,0,0,0,0,0,0,0,0,0,0,0,0,0,0],\n",
    "[0,0,0,0,3,0,0,3,0,3,0,0,0,0,0,0,0,0,0,0,0,0,0,0,0,0,0,0,0,0,0,0,0,0,0,0,0,0,0,0,0,0,0,0,0,3,0,0,0,3,0,0,0,0,3,0,0,0,0,0,0,0,3,3,0,0,3,3,3,3,3,0,0,3,0,0,0,0,0,0,0,0,0,0,0,0,0,0,0,0,0,0,3,0,0,0,0,0,0,0,0,0,0,0,0,0,0,0,0],\n",
    "[0,0,0,0,0,0,0,3,0,3,0,0,0,0,0,0,0,0,0,0,0,0,0,0,0,0,0,0,0,0,0,0,0,0,0,0,0,0,0,0,0,0,0,0,3,0,0,0,0,3,0,0,0,3,0,3,3,3,0,0,0,0,0,0,0,3,0,0,0,0,0,3,3,0,0,0,0,0,0,0,0,0,0,0,0,0,0,0,0,0,0,3,3,3,3,0,0,0,0,0,0,0,0,0,0,0,0,0,0],\n",
    "[2,1,3,3,3,3,3,0,0,0,3,3,3,3,3,3,3,3,3,3,3,3,3,3,3,3,3,3,3,3,3,3,3,3,3,3,3,3,3,3,3,3,3,3,0,0,0,0,0,3,0,0,3,0,0,0,0,0,3,3,3,3,3,3,3,0,0,0,0,0,0,0,0,0,0,0,0,0,3,3,0,0,0,0,0,0,0,0,0,0,0,3,0,0,3,3,0,3,3,3,3,3,3,3,3,3,3,3,3],\n",
    "[0,0,0,0,0,0,0,0,0,0,0,0,0,0,0,0,0,0,0,0,0,0,0,0,0,0,0,0,0,0,0,0,0,0,0,0,0,0,0,0,0,0,0,0,0,0,0,0,0,0,3,3,0,0,0,0,0,0,0,0,0,0,0,0,0,0,0,0,0,0,0,0,0,0,0,0,0,3,0,0,3,0,0,0,0,0,0,0,0,0,0,3,3,3,3,0,3,0,0,0,0,0,0,0,0,0,0,0,0],\n",
    "[0,0,0,0,0,0,0,0,0,0,0,0,0,0,0,0,0,0,0,0,0,0,0,0,0,0,0,0,0,0,0,0,0,0,0,0,0,0,0,0,0,0,0,0,0,0,0,0,0,0,0,0,0,0,0,0,0,0,0,0,0,0,0,0,0,0,0,0,0,0,0,0,0,0,0,0,3,0,0,3,3,3,3,0,0,0,0,0,0,0,0,0,3,0,0,0,0,3,0,0,0,0,0,0,0,0,0,0,0],\n",
    "[0,0,0,0,0,0,0,0,0,0,0,0,0,0,0,0,0,0,0,0,0,0,0,0,0,0,0,0,0,0,0,0,0,0,0,0,0,0,0,0,0,0,0,0,0,0,0,0,0,0,0,0,0,0,0,0,0,0,0,0,0,0,0,0,0,0,0,0,0,0,0,0,0,0,0,3,0,0,0,3,0,0,3,3,0,3,3,3,3,3,3,3,0,0,0,0,3,3,3,0,0,0,0,0,0,0,0,0,0],\n",
    "[3,3,3,3,3,3,3,3,3,3,3,0,0,0,3,3,3,3,3,3,3,3,3,3,3,3,3,3,3,3,3,3,3,3,3,3,3,3,3,3,3,3,3,3,3,3,3,3,3,3,3,3,3,3,3,3,3,3,3,3,3,3,3,3,3,3,3,3,3,3,3,3,3,3,3,0,0,0,0,3,3,3,3,0,3,0,0,0,0,0,0,0,3,0,0,0,0,3,0,0,0,0,3,3,0,0,0,0,0],\n",
    "[0,0,0,0,0,0,0,0,0,0,0,3,0,3,0,0,0,0,0,0,0,0,0,0,0,0,0,0,0,0,0,0,0,0,0,0,0,0,0,0,0,0,0,0,0,0,0,0,0,0,0,0,0,0,0,0,0,0,0,0,0,0,0,0,0,0,0,0,0,0,0,0,0,0,0,0,0,0,0,0,3,0,0,0,0,3,0,0,0,0,0,0,3,0,0,0,3,0,3,3,3,3,0,0,3,0,0,0,0],\n",
    "[0,0,0,0,0,0,0,0,0,0,0,3,0,3,0,0,3,0,0,0,0,0,0,0,0,0,0,0,0,0,0,0,0,0,0,0,0,0,0,0,0,0,0,0,0,0,0,0,0,0,0,0,0,0,0,0,0,0,0,0,0,0,0,0,0,0,0,0,0,0,0,0,0,0,0,0,0,0,3,3,0,0,0,0,3,3,3,0,0,0,0,0,3,0,0,3,0,0,0,0,0,0,0,3,3,3,3,3,3],\n",
    "[0,0,0,0,0,0,0,0,0,0,0,3,0,3,0,3,0,3,0,0,0,0,0,0,0,0,0,0,0,0,0,0,0,0,0,0,0,0,0,0,0,0,0,0,0,0,0,0,0,0,0,0,0,0,0,0,0,0,0,0,0,0,0,0,0,0,0,0,0,0,0,0,0,0,0,0,0,3,0,0,3,0,0,0,0,3,0,0,0,0,0,0,0,3,3,0,0,3,3,3,3,3,0,0,3,0,0,0,0],\n",
    "[0,0,0,0,0,0,0,0,0,0,0,3,0,3,0,3,0,3,0,0,0,0,0,0,0,0,0,0,0,0,0,0,0,0,0,0,0,0,0,0,0,0,0,0,0,0,0,0,0,0,0,0,0,0,0,0,0,0,0,0,0,0,0,0,0,0,0,0,0,0,0,0,0,0,0,0,3,0,0,0,3,0,0,0,3,0,3,3,3,0,0,0,0,0,0,0,3,0,0,0,0,0,3,3,0,0,0,0,0],\n",
    "[0,0,0,0,0,0,0,0,0,0,0,0,3,0,0,3,0,3,0,0,0,0,0,0,0,0,0,0,0,0,0,0,0,0,0,0,0,0,0,0,0,0,0,0,0,0,0,0,0,0,0,0,0,0,0,0,0,0,0,0,0,0,0,0,0,0,0,0,0,0,0,0,0,0,0,3,0,0,0,0,3,0,0,3,0,0,0,0,0,3,3,3,3,3,3,3,0,0,0,0,0,0,0,0,0,0,0,0,0],\n",
    "[0,0,0,0,0,0,0,0,0,0,0,0,0,0,0,3,0,3,0,0,0,0,0,0,0,0,0,0,0,0,0,0,0,0,0,0,0,0,0,0,0,0,0,0,0,0,0,0,0,0,0,0,0,0,0,0,0,0,0,0,0,0,0,0,0,0,0,0,0,0,0,0,0,0,3,0,0,0,0,0,0,3,3,0,0,0,0,0,0,0,0,0,0,0,0,0,0,0,0,0,0,0,0,0,0,0,0,0,0],   \n",
    "[2,1,3,3,3,3,3,3,3,3,3,3,3,3,3,0,0,0,3,3,3,3,3,3,3,3,3,3,3,3,3,3,3,3,3,3,3,3,3,3,3,3,3,3,3,3,3,3,3,3,3,3,3,3,3,3,3,3,3,3,3,3,3,3,3,3,3,3,3,3,3,3,3,3,0,0,0,0,0,0,0,0,0,0,0,0,0,0,0,0,0,0,0,0,0,0,0,0,0,0,0,0,0,0,0,0,0,0,0]  \n",
    "\n",
    "                      ])\n",
    "\n",
    "height = len(init_conf)\n",
    "width = len(init_conf[0])\n",
    "\n",
    "animate(130)"
   ]
  }
 ],
 "metadata": {
  "interpreter": {
   "hash": "ea4ccc951e668b3195aa8f7cc9a4ade9f2550dae6498a131c5c502cc2f40fdfa"
  },
  "kernelspec": {
   "display_name": "Python 3.8.8 ('base')",
   "language": "python",
   "name": "python3"
  },
  "language_info": {
   "codemirror_mode": {
    "name": "ipython",
    "version": 3
   },
   "file_extension": ".py",
   "mimetype": "text/x-python",
   "name": "python",
   "nbconvert_exporter": "python",
   "pygments_lexer": "ipython3",
   "version": "3.8.8"
  },
  "orig_nbformat": 4
 },
 "nbformat": 4,
 "nbformat_minor": 2
}
